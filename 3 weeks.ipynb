{
 "cells": [
  {
   "cell_type": "markdown",
   "id": "6cca8e6a-9ec5-401e-abcf-5461a2dccf85",
   "metadata": {},
   "source": [
    "### 텐서\n",
    "- 0차원: 스칼라\n",
    "- 1차원: 벡터\n",
    "- 2차원: 행렬\n",
    "- 3차원 이상: 텐서"
   ]
  },
  {
   "cell_type": "markdown",
   "id": "48444526-1cc2-415b-a8d0-06ea131b1d5d",
   "metadata": {},
   "source": [
    "### 행렬의 표현\n",
    "- 행(row): 0차원 - 가로줄\n",
    "  - 행의 수는 세로축의 크기\n",
    "- 열(column): 1차원 - 세로줄\n",
    "  - 열의 수는 가로축의 크기\n",
    "- k행 n열\n",
    "  - $x\\in\\mathbb{R}^{k\\times{n}}\\longrightarrow |x| = (k, n)$"
   ]
  },
  {
   "cell_type": "markdown",
   "id": "b35c7b63-5a37-491d-8c01-646b2034380d",
   "metadata": {},
   "source": [
    "### 텐서의 표현\n",
    "- $k \\times n \\times m$ 차원의 텐서\n",
    "  - $x\\in\\mathbb{R}^{k\\times{n}\\times{m}}\\longrightarrow |x| = (k, n, m)$\n",
    "  - k: 세로축의 크기\n",
    "  - n: 가로축의 크기\n",
    "  - m: 남은 축의 크기(깊이 방향)"
   ]
  },
  {
   "cell_type": "markdown",
   "id": "251b2ea3-1129-4530-b645-804314fbbc12",
   "metadata": {},
   "source": [
    "### 데이터 사이언스: 테이블 형태(tabular)의 데이터셋\n",
    "- 엑셀 데이터와 유사\n",
    "  - 여러 개의 열을 가진 행들이 나열된 형태\n",
    "  - 각 열은 이름을 가질 수 있음\n",
    "  - 하나의 행이 데이터 단위가 됨 &rarr; 텐서\n",
    "    - $|x| = (n,)$\n",
    "    - 여기서 n은 열의 수 &rarr; 특징의 개수(feature)\n",
    "- 이떄 하나의 데이터 즉, 행을 샘플이라 하고, N개의 샘플이 있으면 N x n 행렬이 됨\n",
    "  - 여기서 하나의 샘플은 n개의 요소를 갖는 n차원의 벡터가 됨\n",
    "- 딥러닝의 병렬 연산(미니 배치)은 N개의 샘플 중에서 메모리가 허락되는 만큼의 k개의 샘플 즉, k x n의 행렬을 한 번에 신경망을 통과시킴"
   ]
  },
  {
   "cell_type": "markdown",
   "id": "88e15d6b-929b-486c-9d54-540d51ace1c3",
   "metadata": {},
   "source": [
    "### 자연어 처리: 문장 데이터셋\n",
    "- 자연어 처리의 대상: 문장(statement)\n",
    "- 단어(토큰): 의미를 가짐 &rarr; 의미를 표현하는 벡터로 표현(단어 임베딩 벡터)\n",
    "- 문장: 단어(or 토큰)들이 모여 이루어진 시퀀셜(sequential) 데이터\n",
    "  - 시퀀셜 데이터: 순서가 있는 데이터\n",
    "- 텍스트: 단어(벡터)로 구성된 문장(행렬)의 모음 &rarr; 3차원 텐서\n",
    "- N개의 문장을 갖는 텐서 x\n",
    "  - $|x| = (N, l d)$\n",
    "    - N: 문장의 개수\n",
    "    - l: 단어의 개수 즉, 문장의 길이\n",
    "    - d: 단어 특징의 개수 즉, 단어의 길이\n",
    "- (의미를 나타내는 벡터인)단어의 길이는 일정 크기로 제한됨\n",
    "- 자연어 문장은 길이가 정해지지 않기 때문에 문장의 길이 l은 가변적임\n",
    "  - 일반적인 신경망 계층으로 표현하기 어려움\n",
    "    - 순환신경망(RNN)이나 트랜스포머(transformer)를 사용함"
   ]
  },
  {
   "cell_type": "markdown",
   "id": "6e2bf75e-73ed-49a8-9b67-b9fdb0c17c4b",
   "metadata": {},
   "source": [
    "### 컴퓨터 비전: 이미지 데이터셋\n",
    "- 흑백 이미지\n",
    "  - 픽셀: 0~255 사이의 값 &rarr; 스칼라\n",
    "  - 한 장의 이미지: 세로축 $\\times$ 가로축 크기의 픽셀로 구성 &rarr; H $\\times$ W 차원의 행렬\n",
    "  - 여러 장의 이미지 &rarr; 3차원의 텐서\n",
    "- 컬러 이미지\n",
    "  - RGB 세개의 채널로 표현되는컬러 픽셀 &rarr; 벡터\n",
    "  - 한 장의 컬러 이미지: height x width x channels &rarr; 3차원 텐서\n",
    "  - 여러 장의 이미지 &rarr; 4차원 텐서\n",
    "- 테이블 데이터에서 열(특징)은 순서가 바뀌면 속성값이 바뀌므로 순서가 매우 중요 &rarr; 일반적\n",
    "- 이미지에서 픽셀의 위치가 바뀌는 것은 이미지의 특성에 큰 영향을 미치지 않음\n",
    "   - 이 특징을 반영해 선형 계층보다 합성곱신경망(CNN)을 주로 사용"
   ]
  },
  {
   "cell_type": "markdown",
   "id": "5b686943-7619-4343-bfe5-0058f94fc119",
   "metadata": {},
   "source": [
    "### 파이토치 텐서 생성\n",
    "- 값(리스트)으로 생성\n",
    "- 크기로 생성"
   ]
  },
  {
   "cell_type": "code",
   "execution_count": 1,
   "id": "cc1c6709-7dd9-4846-97cd-c4d91e8f3977",
   "metadata": {},
   "outputs": [],
   "source": [
    "import torch # 파이토치 모듈 불러오기"
   ]
  },
  {
   "cell_type": "code",
   "execution_count": 2,
   "id": "e76f0863-074b-491a-8a47-6c6e8ad12747",
   "metadata": {},
   "outputs": [
    {
     "data": {
      "text/plain": [
       "tensor([[1., 2.],\n",
       "        [3., 4.]])"
      ]
     },
     "execution_count": 2,
     "metadata": {},
     "output_type": "execute_result"
    }
   ],
   "source": [
    "# 이차원 리스트로 실수형 텐서 만들기\n",
    "ft=torch.FloatTensor([[1,2],[3,4]])\n",
    "ft"
   ]
  },
  {
   "cell_type": "code",
   "execution_count": 3,
   "id": "2df7405b-032c-46e6-9273-97775468e127",
   "metadata": {},
   "outputs": [
    {
     "data": {
      "text/plain": [
       "tensor([[1, 2],\n",
       "        [3, 4]])"
      ]
     },
     "execution_count": 3,
     "metadata": {},
     "output_type": "execute_result"
    }
   ],
   "source": [
    "lt=torch.LongTensor([[1,2],[3,4]])\n",
    "lt"
   ]
  },
  {
   "cell_type": "code",
   "execution_count": 4,
   "id": "da464b70-a089-45dd-9bc4-af823b0290c5",
   "metadata": {},
   "outputs": [
    {
     "data": {
      "text/plain": [
       "tensor([[1, 0],\n",
       "        [0, 1]], dtype=torch.uint8)"
      ]
     },
     "execution_count": 4,
     "metadata": {},
     "output_type": "execute_result"
    }
   ],
   "source": [
    "bt=torch.ByteTensor([[1,0],[0,1]])\n",
    "bt"
   ]
  },
  {
   "cell_type": "code",
   "execution_count": 5,
   "id": "8c132f0c-6556-40a8-a7ef-511a7c6cf579",
   "metadata": {},
   "outputs": [
    {
     "data": {
      "text/plain": [
       "tensor([[6.5637e-27, 1.0986e-42],\n",
       "        [0.0000e+00, 0.0000e+00],\n",
       "        [0.0000e+00, 0.0000e+00]])"
      ]
     },
     "execution_count": 5,
     "metadata": {},
     "output_type": "execute_result"
    }
   ],
   "source": [
    "# 텐서의 크기를 주고 임의의 값으로 채움\n",
    "x=torch.FloatTensor(3,2)\n",
    "x"
   ]
  },
  {
   "cell_type": "markdown",
   "id": "ab82033e-1a04-4fad-9d0e-96330c1f9bcd",
   "metadata": {},
   "source": [
    "### 넘파이 호환"
   ]
  },
  {
   "cell_type": "code",
   "execution_count": 6,
   "id": "7311eaae-03ff-412f-a67e-82c493ed39ea",
   "metadata": {},
   "outputs": [
    {
     "name": "stdout",
     "output_type": "stream",
     "text": [
      "[[1 2]\n",
      " [3 4]] <class 'numpy.ndarray'>\n"
     ]
    }
   ],
   "source": [
    "import numpy as np\n",
    "x=np.array([[1,2],[3,4]])\n",
    "print(x, type(x))"
   ]
  },
  {
   "cell_type": "code",
   "execution_count": 7,
   "id": "b38774dd-bc97-48e4-91d2-022026a57ebd",
   "metadata": {},
   "outputs": [
    {
     "data": {
      "text/plain": [
       "array([[1, 2],\n",
       "       [3, 4]])"
      ]
     },
     "execution_count": 7,
     "metadata": {},
     "output_type": "execute_result"
    }
   ],
   "source": [
    "x"
   ]
  },
  {
   "cell_type": "code",
   "execution_count": 8,
   "id": "03d43a26-14f6-4e22-bc48-cda0494a1612",
   "metadata": {},
   "outputs": [
    {
     "name": "stdout",
     "output_type": "stream",
     "text": [
      "tensor([[1, 2],\n",
      "        [3, 4]]) <class 'torch.Tensor'>\n"
     ]
    }
   ],
   "source": [
    "# 넘파이의 ndarray를 파이토치의 텐서로 변환\n",
    "x=torch.from_numpy(x)\n",
    "print(x, type(x))"
   ]
  },
  {
   "cell_type": "code",
   "execution_count": 9,
   "id": "4ab66886-6a92-48d6-9ab2-796a2e186ef4",
   "metadata": {},
   "outputs": [],
   "source": [
    "x=x.numpy()"
   ]
  },
  {
   "cell_type": "code",
   "execution_count": 10,
   "id": "b0b229de-6192-49c5-8f35-bea23126e910",
   "metadata": {},
   "outputs": [
    {
     "name": "stdout",
     "output_type": "stream",
     "text": [
      "[[1 2]\n",
      " [3 4]] <class 'numpy.ndarray'>\n"
     ]
    }
   ],
   "source": [
    "print(x, type(x))"
   ]
  },
  {
   "cell_type": "markdown",
   "id": "e2dbad59-a5d0-4b4b-a66e-97635d93ee79",
   "metadata": {},
   "source": [
    "### 텐서 타입 변환"
   ]
  },
  {
   "cell_type": "code",
   "execution_count": 11,
   "id": "32bd5d86-7a44-48df-bd5d-1eef31af51d4",
   "metadata": {},
   "outputs": [
    {
     "data": {
      "text/plain": [
       "tensor([[1., 2.],\n",
       "        [3., 4.]])"
      ]
     },
     "execution_count": 11,
     "metadata": {},
     "output_type": "execute_result"
    }
   ],
   "source": [
    "ft"
   ]
  },
  {
   "cell_type": "code",
   "execution_count": 12,
   "id": "67069f8b-cfa5-4125-be15-f7a71d41bcf1",
   "metadata": {},
   "outputs": [
    {
     "data": {
      "text/plain": [
       "tensor([[1, 2],\n",
       "        [3, 4]])"
      ]
     },
     "execution_count": 12,
     "metadata": {},
     "output_type": "execute_result"
    }
   ],
   "source": [
    "ft.long()"
   ]
  },
  {
   "cell_type": "code",
   "execution_count": 13,
   "id": "e26a088c-0bf5-41ea-a13f-66347c9a2018",
   "metadata": {},
   "outputs": [
    {
     "data": {
      "text/plain": [
       "tensor([[1., 2.],\n",
       "        [3., 4.]])"
      ]
     },
     "execution_count": 13,
     "metadata": {},
     "output_type": "execute_result"
    }
   ],
   "source": [
    "ft.float()"
   ]
  },
  {
   "cell_type": "markdown",
   "id": "9774056d-c6a3-4696-ae52-26d8a2d947e1",
   "metadata": {},
   "source": [
    "### 텐서 크기 구하기"
   ]
  },
  {
   "cell_type": "code",
   "execution_count": 14,
   "id": "c6adda03-d9e6-4c04-9eeb-4e4ebb5f1538",
   "metadata": {},
   "outputs": [
    {
     "data": {
      "text/plain": [
       "tensor([[[ 1.,  2.],\n",
       "         [ 3.,  4.]],\n",
       "\n",
       "        [[ 5.,  6.],\n",
       "         [ 7.,  8.]],\n",
       "\n",
       "        [[ 9., 10.],\n",
       "         [11., 12.]]])"
      ]
     },
     "execution_count": 14,
     "metadata": {},
     "output_type": "execute_result"
    }
   ],
   "source": [
    "# 3x2x2 텐서 x 선언\n",
    "x=torch.FloatTensor([[[1,2],[3,4]],\n",
    "                     [[5,6],[7,8]],\n",
    "                     [[9,10],[11,12]]])\n",
    "x                      "
   ]
  },
  {
   "cell_type": "code",
   "execution_count": 15,
   "id": "45faaf3c-e859-4e40-a039-d5175d883941",
   "metadata": {},
   "outputs": [
    {
     "data": {
      "text/plain": [
       "tensor([[[ 1.,  2.],\n",
       "         [ 3.,  4.]],\n",
       "\n",
       "        [[ 5.,  6.],\n",
       "         [ 7.,  8.]],\n",
       "\n",
       "        [[ 9., 10.],\n",
       "         [11., 12.]]])"
      ]
     },
     "execution_count": 15,
     "metadata": {},
     "output_type": "execute_result"
    }
   ],
   "source": [
    "# 위 방식과 동일함\n",
    "y=np.arange(1,13).reshape(3,2,2)\n",
    "x=torch.from_numpy(y).float()\n",
    "x"
   ]
  },
  {
   "cell_type": "code",
   "execution_count": 16,
   "id": "5429878f-63c2-4c99-9806-5e914c171f23",
   "metadata": {},
   "outputs": [
    {
     "name": "stdout",
     "output_type": "stream",
     "text": [
      "torch.Size([3, 2, 2])\n",
      "torch.Size([3, 2, 2])\n"
     ]
    }
   ],
   "source": [
    "print(x.size()) # 크기 메소드\n",
    "print(x.shape)  # 크기 속성"
   ]
  },
  {
   "cell_type": "code",
   "execution_count": 17,
   "id": "50b642d2-8dd7-4a66-b09c-b9e902b782ba",
   "metadata": {},
   "outputs": [
    {
     "name": "stdout",
     "output_type": "stream",
     "text": [
      "(3, 2, 2)\n"
     ]
    }
   ],
   "source": [
    "#print(y.size()) # numpy에는 size() 메소드가 없음\n",
    "print(y.shape)   # numpy의 shape은 튜플 형태"
   ]
  },
  {
   "cell_type": "code",
   "execution_count": 18,
   "id": "672546da-0e20-4841-b765-7c8b383db37a",
   "metadata": {},
   "outputs": [
    {
     "name": "stdout",
     "output_type": "stream",
     "text": [
      "2\n",
      "2\n"
     ]
    }
   ],
   "source": [
    "print(x.size(1))\n",
    "print(x.shape[1])"
   ]
  },
  {
   "cell_type": "code",
   "execution_count": 19,
   "id": "ac1e5f51-835c-467e-913a-40b328f4b4e7",
   "metadata": {},
   "outputs": [
    {
     "name": "stdout",
     "output_type": "stream",
     "text": [
      "3\n",
      "3\n"
     ]
    }
   ],
   "source": [
    "print(x.dim())\n",
    "print(len(x.size()))"
   ]
  },
  {
   "cell_type": "markdown",
   "id": "08bbe0f6-4fcb-418f-9f2b-159417848a79",
   "metadata": {},
   "source": [
    "### 산술 연산"
   ]
  },
  {
   "cell_type": "code",
   "execution_count": 20,
   "id": "2220894b-d81a-4768-8676-c8aced8d4275",
   "metadata": {},
   "outputs": [],
   "source": [
    "a=torch.FloatTensor([[1,2],[3,4]])\n",
    "b=torch.FloatTensor([[2,2],[3,3]])"
   ]
  },
  {
   "cell_type": "code",
   "execution_count": 21,
   "id": "6355653c-7a12-44ec-8199-e31ee8dd2152",
   "metadata": {},
   "outputs": [
    {
     "data": {
      "text/plain": [
       "tensor([[3., 4.],\n",
       "        [6., 7.]])"
      ]
     },
     "execution_count": 21,
     "metadata": {},
     "output_type": "execute_result"
    }
   ],
   "source": [
    "a+b"
   ]
  },
  {
   "cell_type": "code",
   "execution_count": 22,
   "id": "aff7b566-ba27-42a9-9886-e88af4557cc8",
   "metadata": {},
   "outputs": [
    {
     "data": {
      "text/plain": [
       "tensor([[-1.,  0.],\n",
       "        [ 0.,  1.]])"
      ]
     },
     "execution_count": 22,
     "metadata": {},
     "output_type": "execute_result"
    }
   ],
   "source": [
    "a-b"
   ]
  },
  {
   "cell_type": "code",
   "execution_count": 23,
   "id": "4e17d1b9-1997-4121-9b0e-71028c229554",
   "metadata": {},
   "outputs": [
    {
     "data": {
      "text/plain": [
       "tensor([[ 1.,  4.],\n",
       "        [27., 64.]])"
      ]
     },
     "execution_count": 23,
     "metadata": {},
     "output_type": "execute_result"
    }
   ],
   "source": [
    "a**b"
   ]
  },
  {
   "cell_type": "code",
   "execution_count": 24,
   "id": "b551c862-2909-4c33-8c43-3c1f97458604",
   "metadata": {},
   "outputs": [
    {
     "data": {
      "text/plain": [
       "tensor([[False,  True],\n",
       "        [ True, False]])"
      ]
     },
     "execution_count": 24,
     "metadata": {},
     "output_type": "execute_result"
    }
   ],
   "source": [
    "a==b # 논리 연산"
   ]
  },
  {
   "cell_type": "code",
   "execution_count": 25,
   "id": "81229f5a-0488-4fa8-aa86-8ff7e2dcfafa",
   "metadata": {},
   "outputs": [
    {
     "data": {
      "text/plain": [
       "tensor([[False, False],\n",
       "        [False,  True]])"
      ]
     },
     "execution_count": 25,
     "metadata": {},
     "output_type": "execute_result"
    }
   ],
   "source": [
    "a>b # 비교 연산"
   ]
  },
  {
   "cell_type": "markdown",
   "id": "78c579cc-440a-4ab0-884a-3283d837ac25",
   "metadata": {},
   "source": [
    "### 인플레이스 연산\n",
    "- 함수명 다음에 밑줄(underscore)이 붙음\n",
    "- a x b를 했을 때 나온 값을 다시 a에 저장하는 연산\n",
    "- 즉, 메모리의 새로운 공간에 계산 결과가 저장되는 것이 아니라 기존 a의 공간에 계산 결과가 저장되는 것"
   ]
  },
  {
   "cell_type": "code",
   "execution_count": 26,
   "id": "8ab65f3a-48f8-4dd6-8dcc-03574a4b33e7",
   "metadata": {},
   "outputs": [
    {
     "data": {
      "text/plain": [
       "tensor([[ 2.,  4.],\n",
       "        [ 9., 12.]])"
      ]
     },
     "execution_count": 26,
     "metadata": {},
     "output_type": "execute_result"
    }
   ],
   "source": [
    "a.mul(b) # a x b와 동일"
   ]
  },
  {
   "cell_type": "code",
   "execution_count": 27,
   "id": "f914b7b8-ba76-4d79-b288-ea73b557fd93",
   "metadata": {},
   "outputs": [
    {
     "data": {
      "text/plain": [
       "tensor([[1., 2.],\n",
       "        [3., 4.]])"
      ]
     },
     "execution_count": 27,
     "metadata": {},
     "output_type": "execute_result"
    }
   ],
   "source": [
    "a"
   ]
  },
  {
   "cell_type": "code",
   "execution_count": 28,
   "id": "18d7a817-d337-4a6b-b33f-372a76dfac02",
   "metadata": {},
   "outputs": [
    {
     "data": {
      "text/plain": [
       "tensor([[ 2.,  4.],\n",
       "        [ 9., 12.]])"
      ]
     },
     "execution_count": 28,
     "metadata": {},
     "output_type": "execute_result"
    }
   ],
   "source": [
    "a.mul_(b) # 인플레이스 연산"
   ]
  },
  {
   "cell_type": "code",
   "execution_count": 29,
   "id": "a78c6761-6fee-4a6f-a8b0-a2ad9429b9b9",
   "metadata": {},
   "outputs": [
    {
     "data": {
      "text/plain": [
       "tensor([[ 2.,  4.],\n",
       "        [ 9., 12.]])"
      ]
     },
     "execution_count": 29,
     "metadata": {},
     "output_type": "execute_result"
    }
   ],
   "source": [
    "a"
   ]
  },
  {
   "cell_type": "markdown",
   "id": "9658598f-0ad9-4981-8b6a-93abee8e1198",
   "metadata": {},
   "source": [
    "- 연산 전후의 데이터 타입이 달라지면 오류가 발생함\n",
    "- ex) a -> 실수, b -> 정수 => 오류 X<br>\n",
    "$\\quad$$\\;$a -> 정수, b -> 실수 => 오류 O(a.mul(b)를 계산하면 a의 값이 실수가 되어야 함)\n",
    "- 실수 x 정수의 연산은 결과가 실수가 되므로 원래 실수인 b의 메서드를 사용하면 문제가 발생하지 않음"
   ]
  },
  {
   "cell_type": "code",
   "execution_count": 30,
   "id": "0f7c89ea-25e8-4aca-94d5-aed8ccb9c82b",
   "metadata": {},
   "outputs": [],
   "source": [
    "a=torch.LongTensor([[1,2],[3,4]])\n",
    "b=torch.FloatTensor([[2,2],[3,3]])\n",
    "#a.mul_(b)"
   ]
  },
  {
   "cell_type": "code",
   "execution_count": 31,
   "id": "bc0f5d9d-54e5-4f58-8869-417315ed7577",
   "metadata": {},
   "outputs": [
    {
     "data": {
      "text/plain": [
       "tensor([[ 2.,  4.],\n",
       "        [ 9., 12.]])"
      ]
     },
     "execution_count": 31,
     "metadata": {},
     "output_type": "execute_result"
    }
   ],
   "source": [
    "b.mul(a)"
   ]
  },
  {
   "cell_type": "markdown",
   "id": "5752ab27-6565-488e-981a-881ccc203bba",
   "metadata": {},
   "source": [
    "### 차원 축소 연산(합, 평균)\n",
    "- 벡터의 합은 스칼라 값 -> 차원이 하나 줄어듦"
   ]
  },
  {
   "cell_type": "code",
   "execution_count": 32,
   "id": "b4cd10a1-aa16-454f-ad4f-0b7008be4de6",
   "metadata": {},
   "outputs": [],
   "source": [
    "x=torch.FloatTensor([[1,2],[3,4]])"
   ]
  },
  {
   "cell_type": "code",
   "execution_count": 33,
   "id": "e3deaf2b-7522-4bd1-9fac-762ba13d8e50",
   "metadata": {},
   "outputs": [
    {
     "name": "stdout",
     "output_type": "stream",
     "text": [
      "tensor(10.)\n"
     ]
    }
   ],
   "source": [
    "print(x.sum()) # 행렬 전체의 합"
   ]
  },
  {
   "cell_type": "code",
   "execution_count": 34,
   "id": "f67654f6-6683-45fa-a767-f7d7cd2c0a93",
   "metadata": {},
   "outputs": [
    {
     "name": "stdout",
     "output_type": "stream",
     "text": [
      "tensor(2.5000)\n"
     ]
    }
   ],
   "source": [
    "print(x.mean()) # 행렬 전체의 평균"
   ]
  },
  {
   "cell_type": "code",
   "execution_count": 35,
   "id": "d69b83e6-f214-4573-9552-e71b93d4be61",
   "metadata": {},
   "outputs": [
    {
     "name": "stdout",
     "output_type": "stream",
     "text": [
      "tensor([4., 6.])\n"
     ]
    }
   ],
   "source": [
    "print(x.sum(dim=0)) # 첫 번째 차원 즉, 행렬의 세로축에 대해 합 연산 수행"
   ]
  },
  {
   "cell_type": "code",
   "execution_count": 36,
   "id": "16323bea-a73b-4ba0-96c7-78c04e6ec72a",
   "metadata": {},
   "outputs": [
    {
     "name": "stdout",
     "output_type": "stream",
     "text": [
      "tensor([3., 7.])\n"
     ]
    }
   ],
   "source": [
    "print(x.sum(dim=-1)) # 뒤에서 첫 번째 차원을 의미함, 2차원까지만 존재하기에 dim=1과 동일함"
   ]
  },
  {
   "cell_type": "code",
   "execution_count": 37,
   "id": "270e5b92-6b0f-4ff4-a8bf-6139483c29f5",
   "metadata": {},
   "outputs": [
    {
     "name": "stdout",
     "output_type": "stream",
     "text": [
      "tensor([3., 7.])\n"
     ]
    }
   ],
   "source": [
    "print(x.sum(dim=1))"
   ]
  },
  {
   "cell_type": "markdown",
   "id": "8d3e26bb-88bd-4f42-8c39-014941a1b896",
   "metadata": {},
   "source": [
    "### 브로드캐스트 연산\n",
    "- 크기가 다른 텐서들의 산술 연산을 가능하게 함\n",
    "  - 텐서 + 스칼라\n",
    "  - 텐서 + 벡터\n",
    "  - 텐서 + 텐서\n",
    "- numpy 브로드캐스트 규칙\n",
    "  - 규칙 1: 두 배열의 차원의 수가 다르면 작은 차원을 가진 shape의 앞쪽(왼쪽)을 1로 채운다.\n",
    "  - 규칙 2: 두 배열의 shape이 일치하지 않는다면, 일치하지 않는 차원에서 크기가 1인 배열이 다른 쪽 배열의 크기와 일치하도록 수정한다.\n",
    "  - 규칙 3: 임의의 차원에서 크기가 일치하지 않으면서 양쪽 모두크기가 1이 아니라면 브로드캐스팅되지 않는다."
   ]
  },
  {
   "cell_type": "markdown",
   "id": "b61051d3-b467-45a7-ae9c-efc909e10021",
   "metadata": {},
   "source": [
    "- ex 1)\n",
    "  - (2,3,4) => (3,4) --> (1,3,4) --> (2,3,4)\n",
    "- ex 2)\n",
    "  - (2,3,4) => (3,1) --> (1,3,1) --> (2,3,4)\n",
    "- ex 3)\n",
    "  - (2,3,4) => (3,2) --> (1,3,2) --> (2,3,2) (X)"
   ]
  },
  {
   "cell_type": "code",
   "execution_count": 38,
   "id": "a03dddb8-2e90-4378-a145-cf12a61dbf7c",
   "metadata": {},
   "outputs": [
    {
     "name": "stdout",
     "output_type": "stream",
     "text": [
      "tensor([[2., 3.],\n",
      "        [4., 5.]])\n",
      "torch.Size([2, 2])\n"
     ]
    }
   ],
   "source": [
    "# 텐서 + 스칼라\n",
    "x=torch.FloatTensor([[1,2],[3,4]])\n",
    "y=1\n",
    "z=x+y\n",
    "print(z)\n",
    "print(z.size())"
   ]
  },
  {
   "cell_type": "code",
   "execution_count": 39,
   "id": "e6efba8b-fb75-408b-9521-7f71087a5e9e",
   "metadata": {},
   "outputs": [
    {
     "name": "stdout",
     "output_type": "stream",
     "text": [
      "tensor([[ 4.,  7.],\n",
      "        [ 7., 13.]])\n",
      "torch.Size([2, 2])\n"
     ]
    }
   ],
   "source": [
    "x=torch.FloatTensor([[1,2],[4,8]])\n",
    "y=torch.FloatTensor([3,5])\n",
    "z=x+y\n",
    "print(z)\n",
    "print(z.size())"
   ]
  },
  {
   "cell_type": "markdown",
   "id": "6cd2972d-f728-493c-ba17-334649127db4",
   "metadata": {},
   "source": [
    "### view 함수\n",
    "- 텐서의 요소 개수가 맞아야 함\n",
    "- -1이 들어간 차원의 크기는 다른 차원의 값들을 곱하고 남은 필요한 값이 자동으로 채워짐 \n",
    "- 텐서의 전체 요소(element)는 유지한 채 모양을 바꾸는 함수"
   ]
  },
  {
   "cell_type": "code",
   "execution_count": 40,
   "id": "b95715a7-4660-4f6e-b583-ba995b2205e0",
   "metadata": {},
   "outputs": [],
   "source": [
    "x=torch.from_numpy(np.arange(1,13).reshape(3,2,2))\n",
    "# 1~12까지의 숫자를 3x2x2의 형태로 차례대로 데이터 삽입"
   ]
  },
  {
   "cell_type": "code",
   "execution_count": 41,
   "id": "761069b3-f07b-4f00-b78a-1779425081d3",
   "metadata": {},
   "outputs": [
    {
     "data": {
      "text/plain": [
       "tensor([ 1,  2,  3,  4,  5,  6,  7,  8,  9, 10, 11, 12])"
      ]
     },
     "execution_count": 41,
     "metadata": {},
     "output_type": "execute_result"
    }
   ],
   "source": [
    "x.view(12)"
   ]
  },
  {
   "cell_type": "code",
   "execution_count": 42,
   "id": "2e426408-6517-416e-99ca-ef54b0e5088b",
   "metadata": {},
   "outputs": [
    {
     "data": {
      "text/plain": [
       "tensor([[ 1,  2,  3,  4],\n",
       "        [ 5,  6,  7,  8],\n",
       "        [ 9, 10, 11, 12]])"
      ]
     },
     "execution_count": 42,
     "metadata": {},
     "output_type": "execute_result"
    }
   ],
   "source": [
    "x.view(3,-1)\n",
    "# -1이 들어간 차원의 크기는 다른 차원의 값들을 곱하고 남은 필요한 값이 자동으로 채워짐"
   ]
  },
  {
   "cell_type": "code",
   "execution_count": 43,
   "id": "da29a810-2151-47d0-9c2a-e980feae9f73",
   "metadata": {},
   "outputs": [
    {
     "data": {
      "text/plain": [
       "tensor([ 1,  2,  3,  4,  5,  6,  7,  8,  9, 10, 11, 12])"
      ]
     },
     "execution_count": 43,
     "metadata": {},
     "output_type": "execute_result"
    }
   ],
   "source": [
    "x.view(-1) # -1은 12와 동일"
   ]
  },
  {
   "cell_type": "code",
   "execution_count": 44,
   "id": "dcf6cc20-6efe-43c1-97d5-35a03877b694",
   "metadata": {},
   "outputs": [
    {
     "data": {
      "text/plain": [
       "tensor([[[ 1,  2],\n",
       "         [ 3,  4],\n",
       "         [ 5,  6]],\n",
       "\n",
       "        [[ 7,  8],\n",
       "         [ 9, 10],\n",
       "         [11, 12]]])"
      ]
     },
     "execution_count": 44,
     "metadata": {},
     "output_type": "execute_result"
    }
   ],
   "source": [
    "x.view(2,-1,2) # -1은 3과 동일"
   ]
  },
  {
   "cell_type": "code",
   "execution_count": 45,
   "id": "090a4c31-831d-44fe-b77b-dca59eeb53d8",
   "metadata": {},
   "outputs": [
    {
     "data": {
      "text/plain": [
       "tensor([[[ 1,  2,  3]],\n",
       "\n",
       "        [[ 4,  5,  6]],\n",
       "\n",
       "        [[ 7,  8,  9]],\n",
       "\n",
       "        [[10, 11, 12]]])"
      ]
     },
     "execution_count": 45,
     "metadata": {},
     "output_type": "execute_result"
    }
   ],
   "source": [
    "x.view(-1,1,3) # -1은 4와 동일 "
   ]
  },
  {
   "cell_type": "code",
   "execution_count": 46,
   "id": "0d07acde-a833-4264-b37c-e505c80090f9",
   "metadata": {},
   "outputs": [
    {
     "data": {
      "text/plain": [
       "tensor([[ 1,  2,  3,  4],\n",
       "        [ 5,  6,  7,  8],\n",
       "        [ 9, 10, 11, 12]])"
      ]
     },
     "execution_count": 46,
     "metadata": {},
     "output_type": "execute_result"
    }
   ],
   "source": [
    "x.view(3,4)"
   ]
  },
  {
   "cell_type": "markdown",
   "id": "2d17af8c-bb86-4940-a51f-157b0ead7cef",
   "metadata": {},
   "source": [
    "- view() 함수의 결과는 텐서의 주소를 바꾸지 않음"
   ]
  },
  {
   "cell_type": "code",
   "execution_count": 47,
   "id": "7c05875a-d76d-4701-a172-7066780a74e0",
   "metadata": {},
   "outputs": [],
   "source": [
    "y=x.view(3,4)"
   ]
  },
  {
   "cell_type": "code",
   "execution_count": 48,
   "id": "f8c88653-4aeb-4069-ac4b-b5c452bdc9b4",
   "metadata": {},
   "outputs": [
    {
     "name": "stderr",
     "output_type": "stream",
     "text": [
      "C:\\Users\\legna\\AppData\\Local\\Temp\\ipykernel_14132\\3939333011.py:1: UserWarning: TypedStorage is deprecated. It will be removed in the future and UntypedStorage will be the only storage class. This should only matter to you if you are using storages directly.  To access UntypedStorage directly, use tensor.untyped_storage() instead of tensor.storage()\n",
      "  x.storage().data_ptr() == y.storage().data_ptr()\n"
     ]
    },
    {
     "data": {
      "text/plain": [
       "True"
      ]
     },
     "execution_count": 48,
     "metadata": {},
     "output_type": "execute_result"
    }
   ],
   "source": [
    "x.storage().data_ptr() == y.storage().data_ptr()"
   ]
  },
  {
   "cell_type": "markdown",
   "id": "6ab74705-e75e-45c6-971f-4028428ac518",
   "metadata": {},
   "source": [
    "- 따라서 y의 값을 바꾸면 x의 값도 바뀜"
   ]
  },
  {
   "cell_type": "code",
   "execution_count": 49,
   "id": "3f35f2b9-c776-4668-8d5c-3e281de93c90",
   "metadata": {},
   "outputs": [
    {
     "data": {
      "text/plain": [
       "tensor([[100,   2,   3,   4],\n",
       "        [  5,   6,   7,   8],\n",
       "        [  9,  10,  11,  12]])"
      ]
     },
     "execution_count": 49,
     "metadata": {},
     "output_type": "execute_result"
    }
   ],
   "source": [
    "y[0][0]=100\n",
    "y"
   ]
  },
  {
   "cell_type": "code",
   "execution_count": 50,
   "id": "8bfca127-f912-4a2f-9e54-031ead67e7e0",
   "metadata": {},
   "outputs": [
    {
     "data": {
      "text/plain": [
       "tensor([[[100,   2],\n",
       "         [  3,   4]],\n",
       "\n",
       "        [[  5,   6],\n",
       "         [  7,   8]],\n",
       "\n",
       "        [[  9,  10],\n",
       "         [ 11,  12]]])"
      ]
     },
     "execution_count": 50,
     "metadata": {},
     "output_type": "execute_result"
    }
   ],
   "source": [
    "x"
   ]
  },
  {
   "cell_type": "markdown",
   "id": "1eca7581-1b3d-41de-9b20-bc76e753a19b",
   "metadata": {},
   "source": [
    "- 순차적으로 선언(contiguous)된 텐서가 아닐 경우 view 함수는 오류를 발생시킴\n",
    "- 오류를 방지하기 위해서는 다음과 같이 해야 함"
   ]
  },
  {
   "cell_type": "code",
   "execution_count": 51,
   "id": "6ea0196f-b596-4efb-8066-cbb47357e462",
   "metadata": {},
   "outputs": [
    {
     "data": {
      "text/plain": [
       "tensor([100,   2,   3,   4,   5,   6,   7,   8,   9,  10,  11,  12])"
      ]
     },
     "execution_count": 51,
     "metadata": {},
     "output_type": "execute_result"
    }
   ],
   "source": [
    "x.contiguous().view(-1)"
   ]
  },
  {
   "cell_type": "code",
   "execution_count": 52,
   "id": "39e7b01d-f59c-4c95-9274-3600ee5f2dbe",
   "metadata": {},
   "outputs": [
    {
     "data": {
      "text/plain": [
       "tensor([100,   2,   3,   4,   5,   6,   7,   8,   9,  10,  11,  12])"
      ]
     },
     "execution_count": 52,
     "metadata": {},
     "output_type": "execute_result"
    }
   ],
   "source": [
    "# reshape 함수는 contiguous 함수와 view 함수를 차례로 호출\n",
    "x.reshape(-1)"
   ]
  },
  {
   "cell_type": "code",
   "execution_count": 53,
   "id": "c0f880ac-91d3-4a28-b535-3d705cb9c875",
   "metadata": {},
   "outputs": [
    {
     "name": "stdout",
     "output_type": "stream",
     "text": [
      "3367589971648\n",
      "3367589971652\n",
      "3367589971656\n",
      "3367589971660\n"
     ]
    }
   ],
   "source": [
    "x=torch.FloatTensor([[1,2],[3,4]])\n",
    "\n",
    "for i in range(2):\n",
    "    for j in range(2):\n",
    "        print(x[i][j].data_ptr())"
   ]
  },
  {
   "cell_type": "code",
   "execution_count": 54,
   "id": "408981c9-0ec2-4adf-bab9-bd6e421e4790",
   "metadata": {},
   "outputs": [
    {
     "data": {
      "text/plain": [
       "(2, 1)"
      ]
     },
     "execution_count": 54,
     "metadata": {},
     "output_type": "execute_result"
    }
   ],
   "source": [
    "x.stride() # stride: 다음 요소로 접근하기 위해 건너뛰어야 할 요소의 수"
   ]
  },
  {
   "cell_type": "markdown",
   "id": "17a3033d-e423-4776-a81b-e28db042f7ae",
   "metadata": {},
   "source": [
    "#### (2,1)이 되는 이유\n",
    "##### 2: 한 행 아래로 내려가려면 메모리에서 2칸을 건너뛰어야 함\n",
    "##### 1: 옆(행의 다음 인덱스)으로 가려면 1칸을 가야함"
   ]
  },
  {
   "cell_type": "code",
   "execution_count": 55,
   "id": "5e21bfd0-c41f-4a00-8798-f670da3a7c48",
   "metadata": {},
   "outputs": [
    {
     "name": "stdout",
     "output_type": "stream",
     "text": [
      "3367589971648\n",
      "3367589971656\n",
      "3367589971652\n",
      "3367589971660\n"
     ]
    }
   ],
   "source": [
    "x.transpose_(0,1) # 전치\n",
    "for i in range(2):\n",
    "    for j in range(2):\n",
    "        print(x[i][j].data_ptr())"
   ]
  },
  {
   "cell_type": "code",
   "execution_count": 56,
   "id": "0c7f70c2-a7a0-432a-a4a0-ef29b7364228",
   "metadata": {},
   "outputs": [
    {
     "data": {
      "text/plain": [
       "(1, 2)"
      ]
     },
     "execution_count": 56,
     "metadata": {},
     "output_type": "execute_result"
    }
   ],
   "source": [
    "# 전치를 하면[[1,3],[2,4]]의 형태가 되지만 메모리의 값도 같이 바뀌기 때문에 한 행 아래로 내려가려면 3을 거치지 않음\n",
    "# 따라서 바로 다음 메모리인 2를 가리키므로 1칸만 움직이면 됨\n",
    "x.stride()"
   ]
  },
  {
   "cell_type": "code",
   "execution_count": 57,
   "id": "59984b7c-0454-4f3f-91e6-9ddf7f2ab695",
   "metadata": {},
   "outputs": [],
   "source": [
    "# x.view(-1)"
   ]
  },
  {
   "cell_type": "markdown",
   "id": "a4aab0e1-0bbf-43df-afb9-e3cf659a5394",
   "metadata": {},
   "source": [
    "### contiguous 함수\n",
    "##### 텐서를 새로운 메모리 상의 인접한 주소에 인접한 값을 순서대로 할당해주는 함수\n",
    "##### 메모리상에 원하는 형태로 존재한다면 새롭게 할당하지 않고 해당 텐서를 contiguous 함수의 결괏값으로 그대로 반환\n",
    "##### ex) [[1,2],[3,4]] 행렬의 메모리 값 (10,20,30,40)이라 가정할 때 전치하면 [[1,3],[2,4]] 형태로 전치되고 메모리의 순서도 (10,20,30,40)임\n",
    "##### -> 하지만, view 함수는 연속적인 메모리를 기준으로 읽기 때문에, 눈으로 보는 전치 순서 (10,30,20,40)와 맞지 않아 오류가 발생함\n",
    "##### -> 이를 해결하기 위해 contiguous 함수를 사용하면, PyTorch가 새 메모리에 데이터를 전치 순서대로 복사하여 메모리 순서를 (10,30,20,40)으로 만들어 \n",
    "##### $\\quad\\;$view가 올바르게 읽도록 함(메모리 순서만 재배치 된다는 의미)"
   ]
  },
  {
   "cell_type": "code",
   "execution_count": 58,
   "id": "52e2282d-8c7b-47a8-9b3b-f60053184f99",
   "metadata": {},
   "outputs": [
    {
     "data": {
      "text/plain": [
       "tensor([1., 3., 2., 4.])"
      ]
     },
     "execution_count": 58,
     "metadata": {},
     "output_type": "execute_result"
    }
   ],
   "source": [
    "x.contiguous().view(-1)"
   ]
  },
  {
   "cell_type": "markdown",
   "id": "f532a4fb-9712-4a08-aa54-45d1002a6c18",
   "metadata": {},
   "source": [
    "### squeeze 함수\n",
    "- 차원의 크기가 1인 차원을 제거함\n",
    "- 원하는 차원을 지정해서 차원을 제거 할 수 있음\n",
    "- 지정한 차원의 크기가 0이 아니면 원본을 그대로 돌려줌"
   ]
  },
  {
   "cell_type": "code",
   "execution_count": 59,
   "id": "b1799ceb-90b6-494d-ad36-46451008dcf2",
   "metadata": {},
   "outputs": [],
   "source": [
    "x=torch.FloatTensor([[[1,2],\n",
    "                      [3,4]]])"
   ]
  },
  {
   "cell_type": "code",
   "execution_count": 60,
   "id": "f243eb4a-9f15-4b23-8784-2fc3f4c30d53",
   "metadata": {},
   "outputs": [
    {
     "name": "stdout",
     "output_type": "stream",
     "text": [
      "torch.Size([1, 2, 2])\n"
     ]
    }
   ],
   "source": [
    "print(x.size())"
   ]
  },
  {
   "cell_type": "code",
   "execution_count": 61,
   "id": "1c7e6c29-b986-4324-9733-a667ddabd2da",
   "metadata": {},
   "outputs": [
    {
     "name": "stdout",
     "output_type": "stream",
     "text": [
      "tensor([[1., 2.],\n",
      "        [3., 4.]])\n"
     ]
    }
   ],
   "source": [
    "print(x.squeeze())"
   ]
  },
  {
   "cell_type": "code",
   "execution_count": 62,
   "id": "d71833f7-da0f-4cd9-a1cd-9c5a87e87ce2",
   "metadata": {},
   "outputs": [
    {
     "name": "stdout",
     "output_type": "stream",
     "text": [
      "torch.Size([2, 2])\n"
     ]
    }
   ],
   "source": [
    "print(x.squeeze().size())"
   ]
  },
  {
   "cell_type": "code",
   "execution_count": 63,
   "id": "a354beee-396a-4c4a-ae98-bffcb21e6510",
   "metadata": {},
   "outputs": [
    {
     "name": "stdout",
     "output_type": "stream",
     "text": [
      "torch.Size([2, 2])\n"
     ]
    }
   ],
   "source": [
    "print(x.squeeze(0).size()) # dim = 0 -> 0번째의 크기가 1이라면 삭제 => 삭제 가능"
   ]
  },
  {
   "cell_type": "code",
   "execution_count": 64,
   "id": "fc077cc6-a5bc-4b4b-8416-b8ad13d0f7be",
   "metadata": {},
   "outputs": [
    {
     "name": "stdout",
     "output_type": "stream",
     "text": [
      "torch.Size([1, 2, 2])\n"
     ]
    }
   ],
   "source": [
    "print(x.squeeze(1).size()) # dim = 1 -> 1번째의 크기가 1이라면 삭제 => 삭제 불가능 및 같은 텐서 반환"
   ]
  },
  {
   "cell_type": "markdown",
   "id": "e13b87c2-bd90-4f09-8781-e71d1d743008",
   "metadata": {},
   "source": [
    "### unsqueeze 함수\n",
    "- squeeze 함수와 반대로 크기가 1인 차원을 삽입함(삽입할 위치 지정)"
   ]
  },
  {
   "cell_type": "code",
   "execution_count": 65,
   "id": "a31c90d8-8d2f-46af-baee-195cbdcc569c",
   "metadata": {},
   "outputs": [
    {
     "data": {
      "text/plain": [
       "tensor([[[1.],\n",
       "         [2.],\n",
       "         [3.]],\n",
       "\n",
       "        [[4.],\n",
       "         [5.],\n",
       "         [6.]]])"
      ]
     },
     "execution_count": 65,
     "metadata": {},
     "output_type": "execute_result"
    }
   ],
   "source": [
    "a=torch.FloatTensor([[[1],[2],[3]],[[4],[5],[6]]])\n",
    "a"
   ]
  },
  {
   "cell_type": "code",
   "execution_count": 66,
   "id": "5bb6fc3f-80f2-4470-ac4a-2b27faca9464",
   "metadata": {},
   "outputs": [
    {
     "name": "stdout",
     "output_type": "stream",
     "text": [
      "torch.Size([2, 3, 1])\n"
     ]
    }
   ],
   "source": [
    "print(a.size())"
   ]
  },
  {
   "cell_type": "code",
   "execution_count": 67,
   "id": "54f69b42-0934-4b35-b513-47923a569a17",
   "metadata": {},
   "outputs": [
    {
     "data": {
      "text/plain": [
       "tensor([[1., 2., 3.],\n",
       "        [4., 5., 6.]])"
      ]
     },
     "execution_count": 67,
     "metadata": {},
     "output_type": "execute_result"
    }
   ],
   "source": [
    "b=a.squeeze() # 차원의 크기가 1인 차원을 삭제하여 ([2,3])이 됨\n",
    "b"
   ]
  },
  {
   "cell_type": "code",
   "execution_count": 68,
   "id": "debb96fc-81a8-4f81-83bb-df4cc4b57b80",
   "metadata": {},
   "outputs": [
    {
     "data": {
      "text/plain": [
       "tensor([[1., 4.],\n",
       "        [2., 5.],\n",
       "        [3., 6.]])"
      ]
     },
     "execution_count": 68,
     "metadata": {},
     "output_type": "execute_result"
    }
   ],
   "source": [
    "c=b.T # 전치 행렬하여 ([3,2])가 됨\n",
    "c"
   ]
  },
  {
   "cell_type": "code",
   "execution_count": 69,
   "id": "907546ca-5707-44e3-989c-13690ad1e772",
   "metadata": {},
   "outputs": [
    {
     "data": {
      "text/plain": [
       "tensor([[[1., 4.],\n",
       "         [2., 5.],\n",
       "         [3., 6.]]])"
      ]
     },
     "execution_count": 69,
     "metadata": {},
     "output_type": "execute_result"
    }
   ],
   "source": [
    "d=c.unsqueeze(0) # 0번째에 차원의 크기가 1인 차원 삽입 -> ([1,3,2]) \n",
    "d"
   ]
  },
  {
   "cell_type": "code",
   "execution_count": 70,
   "id": "6f85fe34-7e0a-411b-9499-d6048a8bb062",
   "metadata": {},
   "outputs": [
    {
     "name": "stdout",
     "output_type": "stream",
     "text": [
      "torch.Size([2, 3, 1])\n",
      "torch.Size([2, 3])\n",
      "torch.Size([3, 2])\n",
      "torch.Size([1, 3, 2])\n"
     ]
    }
   ],
   "source": [
    "print(a.size())\n",
    "print(b.size())\n",
    "print(c.size())\n",
    "print(d.size())"
   ]
  },
  {
   "cell_type": "code",
   "execution_count": 71,
   "id": "3cd20053-973f-4a85-a1a7-00bc9ea302f1",
   "metadata": {},
   "outputs": [
    {
     "data": {
      "text/plain": [
       "tensor([[[1., 4.]],\n",
       "\n",
       "        [[2., 5.]],\n",
       "\n",
       "        [[3., 6.]]])"
      ]
     },
     "execution_count": 71,
     "metadata": {},
     "output_type": "execute_result"
    }
   ],
   "source": [
    "d=c.unsqueeze(1) # 1번째에 차원의 크기가 1인 차원 삽입 -> ([3,1,2]) \n",
    "d"
   ]
  },
  {
   "cell_type": "code",
   "execution_count": 72,
   "id": "27b8a65d-a80f-4af1-8627-56a77d4251a3",
   "metadata": {},
   "outputs": [
    {
     "name": "stdout",
     "output_type": "stream",
     "text": [
      "torch.Size([3, 1, 2])\n"
     ]
    }
   ],
   "source": [
    "print(d.size())"
   ]
  },
  {
   "cell_type": "code",
   "execution_count": 73,
   "id": "8da91e4a-9b6b-4993-bf78-919b034d880d",
   "metadata": {},
   "outputs": [
    {
     "data": {
      "text/plain": [
       "tensor([[[1.],\n",
       "         [4.]],\n",
       "\n",
       "        [[2.],\n",
       "         [5.]],\n",
       "\n",
       "        [[3.],\n",
       "         [6.]]])"
      ]
     },
     "execution_count": 73,
     "metadata": {},
     "output_type": "execute_result"
    }
   ],
   "source": [
    "d=c.unsqueeze(2) # 2번째에 차원의 크기가 1인 차원 삽입 -> ([3,2,1]) \n",
    "d"
   ]
  },
  {
   "cell_type": "code",
   "execution_count": 74,
   "id": "54c082e6-3884-462b-8dee-ee85ca44be8d",
   "metadata": {},
   "outputs": [
    {
     "name": "stdout",
     "output_type": "stream",
     "text": [
      "torch.Size([3, 2, 1])\n"
     ]
    }
   ],
   "source": [
    "print(d.size())"
   ]
  },
  {
   "cell_type": "code",
   "execution_count": 75,
   "id": "83226b71-7c14-433c-98c1-0e222c87ae11",
   "metadata": {},
   "outputs": [
    {
     "data": {
      "text/plain": [
       "tensor([[[1.],\n",
       "         [4.]],\n",
       "\n",
       "        [[2.],\n",
       "         [5.]],\n",
       "\n",
       "        [[3.],\n",
       "         [6.]]])"
      ]
     },
     "execution_count": 75,
     "metadata": {},
     "output_type": "execute_result"
    }
   ],
   "source": [
    "d=c.unsqueeze(-1) # 뒤에서 차원의 크기가 1인 차원 삽입 -> ([3,2,1]) / 3차원이기 때문에 인덱스가 2와 -1의 사이즈가 동일함\n",
    "d"
   ]
  },
  {
   "cell_type": "code",
   "execution_count": 76,
   "id": "7d402031-4e58-42f0-a5c9-4e8e0bfdcee4",
   "metadata": {},
   "outputs": [
    {
     "name": "stdout",
     "output_type": "stream",
     "text": [
      "torch.Size([3, 2, 1])\n"
     ]
    }
   ],
   "source": [
    "print(d.size())"
   ]
  },
  {
   "cell_type": "markdown",
   "id": "6f9ef005-acc8-4357-b261-6f975a2b207b",
   "metadata": {},
   "source": [
    "#### 0차원 ↓, 1차원 →, 2차원 ↑ "
   ]
  },
  {
   "cell_type": "markdown",
   "id": "e02d375e-bd34-47a8-a51a-e862394bfe0b",
   "metadata": {},
   "source": [
    "### 인덱싱과 슬라이싱"
   ]
  },
  {
   "cell_type": "markdown",
   "id": "07654bf3-ec22-4028-bf51-be1f58e6be8f",
   "metadata": {},
   "source": [
    "- numpy와 동일함"
   ]
  },
  {
   "cell_type": "code",
   "execution_count": 77,
   "id": "39e4ab0c-26b7-41e1-829e-146b2c121d95",
   "metadata": {},
   "outputs": [],
   "source": [
    "x=torch.FloatTensor([[[1,2],\n",
    "                      [3,4]],\n",
    "                     [[5,6],\n",
    "                      [7,8]],\n",
    "                     [[9,10],\n",
    "                      [11,12]]])"
   ]
  },
  {
   "cell_type": "code",
   "execution_count": 78,
   "id": "16abe4bb-137f-486d-852c-a591635c0b12",
   "metadata": {},
   "outputs": [
    {
     "data": {
      "text/plain": [
       "torch.Size([3, 2, 2])"
      ]
     },
     "execution_count": 78,
     "metadata": {},
     "output_type": "execute_result"
    }
   ],
   "source": [
    "x.size()"
   ]
  },
  {
   "cell_type": "code",
   "execution_count": 79,
   "id": "0b65b1fb-93ac-4b06-b7f2-dc306f8a0861",
   "metadata": {},
   "outputs": [
    {
     "name": "stdout",
     "output_type": "stream",
     "text": [
      "tensor([[1., 2.],\n",
      "        [3., 4.]])\n"
     ]
    }
   ],
   "source": [
    "print(x[0]) # 첫 번째 블록을 잘라서 반환"
   ]
  },
  {
   "cell_type": "code",
   "execution_count": 80,
   "id": "4db84b98-e51a-4b7f-acf9-81efe03d8ccf",
   "metadata": {},
   "outputs": [
    {
     "name": "stdout",
     "output_type": "stream",
     "text": [
      "tensor([[ 9., 10.],\n",
      "        [11., 12.]])\n"
     ]
    }
   ],
   "source": [
    "print(x[-1]) # 마지막 블록을 잘라서 반환"
   ]
  },
  {
   "cell_type": "code",
   "execution_count": 81,
   "id": "721d4424-ed01-4e8a-a661-1d34b6747ffe",
   "metadata": {},
   "outputs": [
    {
     "name": "stdout",
     "output_type": "stream",
     "text": [
      "tensor([[ 1.,  2.],\n",
      "        [ 5.,  6.],\n",
      "        [ 9., 10.]])\n"
     ]
    }
   ],
   "source": [
    "print(x[:,0]) # 각 블록에서 첫 번째 행을 잘라서 반환"
   ]
  },
  {
   "cell_type": "code",
   "execution_count": 82,
   "id": "d3373b7e-4839-473f-9fe6-9512a919a2fa",
   "metadata": {},
   "outputs": [
    {
     "name": "stdout",
     "output_type": "stream",
     "text": [
      "tensor([[ 1.,  2.],\n",
      "        [ 5.,  6.],\n",
      "        [ 9., 10.]])\n"
     ]
    }
   ],
   "source": [
    "print(x[:,0,:]) # 각 블록에서 첫 번째 행, 모든 열을 잘라서 반환"
   ]
  },
  {
   "cell_type": "code",
   "execution_count": 83,
   "id": "5412b481-8961-439b-9410-b20ef1ea9820",
   "metadata": {},
   "outputs": [
    {
     "name": "stdout",
     "output_type": "stream",
     "text": [
      "tensor([[[7., 8.]]])\n"
     ]
    }
   ],
   "source": [
    "print(x[1:2,1:,:]) # 두 번째 블록에서 두 번째부터 마지막 행까지 모든 열을 잘라서 반환"
   ]
  },
  {
   "cell_type": "code",
   "execution_count": 84,
   "id": "6e87cf0f-c66a-4b57-86f1-d041f6e4eabd",
   "metadata": {},
   "outputs": [
    {
     "name": "stdout",
     "output_type": "stream",
     "text": [
      "torch.Size([1, 1, 2])\n"
     ]
    }
   ],
   "source": [
    "print(x[1:2, 1:, :].size())"
   ]
  },
  {
   "cell_type": "code",
   "execution_count": 85,
   "id": "96d7026a-82dc-4e25-89e9-59393a885aac",
   "metadata": {},
   "outputs": [
    {
     "name": "stdout",
     "output_type": "stream",
     "text": [
      "tensor([[10.],\n",
      "        [12.]])\n"
     ]
    }
   ],
   "source": [
    "print(x[-1, :, 1:]) # 마지막 블록에서 모든 행, 두 번째 열부터 마지막까지를 잘라서 반환"
   ]
  },
  {
   "cell_type": "code",
   "execution_count": 86,
   "id": "bb0e93b7-97d7-4d00-bc9f-406f3e3b46e7",
   "metadata": {},
   "outputs": [
    {
     "name": "stdout",
     "output_type": "stream",
     "text": [
      "tensor([[ 2.,  4.],\n",
      "        [ 6.,  8.],\n",
      "        [10., 12.]])\n"
     ]
    }
   ],
   "source": [
    "print(x[:, :, 1])"
   ]
  },
  {
   "cell_type": "markdown",
   "id": "de92d3e9-633f-4a21-88b9-a1eccf29e8cd",
   "metadata": {},
   "source": [
    "### split 함수\n",
    "- 텐서를 특정 차원에 대해 원하는 크기로 잘라줌\n",
    "- 원하는 크기로 나누고 마지막은 남은 것을 배분\n",
    "- parameters\n",
    "  - split_size: 나누는 조각의 크기\n",
    "  - dim: 나누게 되는 차원"
   ]
  },
  {
   "cell_type": "code",
   "execution_count": 87,
   "id": "ffd2c042-bfcb-4e77-b8ef-8c7feac6142a",
   "metadata": {},
   "outputs": [
    {
     "data": {
      "text/plain": [
       "tensor([[6.6651e-27, 1.0986e-42, 0.0000e+00, 0.0000e+00],\n",
       "        [0.0000e+00, 0.0000e+00, 0.0000e+00, 0.0000e+00],\n",
       "        [0.0000e+00, 0.0000e+00, 0.0000e+00, 0.0000e+00],\n",
       "        [0.0000e+00, 0.0000e+00, 0.0000e+00, 0.0000e+00],\n",
       "        [0.0000e+00, 0.0000e+00, 0.0000e+00, 0.0000e+00],\n",
       "        [0.0000e+00, 0.0000e+00, 0.0000e+00, 0.0000e+00],\n",
       "        [0.0000e+00, 0.0000e+00, 0.0000e+00, 0.0000e+00],\n",
       "        [0.0000e+00, 0.0000e+00, 0.0000e+00, 0.0000e+00],\n",
       "        [0.0000e+00, 0.0000e+00, 0.0000e+00, 0.0000e+00],\n",
       "        [0.0000e+00, 0.0000e+00, 0.0000e+00, 0.0000e+00]])"
      ]
     },
     "execution_count": 87,
     "metadata": {},
     "output_type": "execute_result"
    }
   ],
   "source": [
    "x=torch.FloatTensor(10,4) # 10행 4열의 텐서 생성\n",
    "x"
   ]
  },
  {
   "cell_type": "code",
   "execution_count": 88,
   "id": "5cd76ba1-31c6-4138-956b-d89850e497b8",
   "metadata": {},
   "outputs": [],
   "source": [
    "splits = x.split(4, dim = 0) # 0번째 차원(dim=0 == 행)을 4행씩 나눔 // 4행, 4행,2행(남은 행) 즉, 3개의 텐서로 구성된 튜플"
   ]
  },
  {
   "cell_type": "code",
   "execution_count": 89,
   "id": "634adb66-0a3d-4af3-b653-56cddf214782",
   "metadata": {},
   "outputs": [],
   "source": [
    "splits1 = x.split(2, dim = 1) # 1번째 차원(dim=1 == 열)을 2열씩 나눔 // 2열, 2열 즉, 2개의 텐서로 구성됨"
   ]
  },
  {
   "cell_type": "code",
   "execution_count": 90,
   "id": "ff0cc998-f387-49ad-bdd6-169d2353eb33",
   "metadata": {},
   "outputs": [
    {
     "name": "stdout",
     "output_type": "stream",
     "text": [
      "torch.Size([10, 2])\n",
      "torch.Size([10, 2])\n"
     ]
    }
   ],
   "source": [
    "for s in splits1:\n",
    "    print(s.size())"
   ]
  },
  {
   "cell_type": "markdown",
   "id": "869c8fc0-74d0-415b-ae04-ac31b7117d3d",
   "metadata": {},
   "source": [
    "### chunk 함수\n",
    "- 크기에 상관없이 원하는 개수로 나눔\n",
    "- 최대한 같은 크기로 나누고 마지막에 나머지를 배분\n",
    "- parameters\n",
    "  - chunk: 나누는 조각의 개수\n",
    "  - dim: 나누게 되는 차원"
   ]
  },
  {
   "cell_type": "code",
   "execution_count": 91,
   "id": "b93e85c4-2518-4de4-89a9-1191929c978c",
   "metadata": {},
   "outputs": [],
   "source": [
    "x = torch.FloatTensor(8,4)"
   ]
  },
  {
   "cell_type": "code",
   "execution_count": 92,
   "id": "37c1b41e-fe55-4ff1-8988-ec6f43be202a",
   "metadata": {},
   "outputs": [],
   "source": [
    "chunks = x.chunk(3, dim = 0)"
   ]
  },
  {
   "cell_type": "code",
   "execution_count": 93,
   "id": "2cb77ccb-ab73-4783-ab74-e51b8b5ab1f6",
   "metadata": {},
   "outputs": [],
   "source": [
    "chunks1 = x.chunk(2, dim = 1)"
   ]
  },
  {
   "cell_type": "code",
   "execution_count": 94,
   "id": "3d17d5f3-5a3d-4703-985a-e4d357421dd6",
   "metadata": {},
   "outputs": [
    {
     "name": "stdout",
     "output_type": "stream",
     "text": [
      "torch.Size([8, 2])\n",
      "torch.Size([8, 2])\n"
     ]
    }
   ],
   "source": [
    "for c in chunks1:\n",
    "    print(c.size())"
   ]
  },
  {
   "cell_type": "markdown",
   "id": "a50f19a0-b55e-4883-bd11-dc85464da240",
   "metadata": {},
   "source": [
    "### index_select 함수\n",
    "- 특정 차원에서 원하는 인덱스 위치의 값만 가져옴\n",
    "- parameters\n",
    "  - dim: 인덱스를 지정할 차원\n",
    "  - index: 정수 텐서로 저장한 인덱스 목록"
   ]
  },
  {
   "cell_type": "code",
   "execution_count": 95,
   "id": "8e2c58bd-b9c6-4c7e-bd02-2959ae318b7a",
   "metadata": {},
   "outputs": [],
   "source": [
    "x=torch.FloatTensor([[[1,1],\n",
    "                      [2,2]],\n",
    "                     [[3,3],\n",
    "                      [4,4]],\n",
    "                     [[5,5],\n",
    "                      [6,6]]])"
   ]
  },
  {
   "cell_type": "code",
   "execution_count": 96,
   "id": "bbdba5c6-216e-49fa-8384-b4389ab073f7",
   "metadata": {},
   "outputs": [],
   "source": [
    "indice=torch.LongTensor([2,1]) # 어떤 블록을 먼저 가져올지 순서를 정함"
   ]
  },
  {
   "cell_type": "code",
   "execution_count": 97,
   "id": "2c55a471-0727-4814-aa04-a7b8b3c66704",
   "metadata": {},
   "outputs": [
    {
     "name": "stdout",
     "output_type": "stream",
     "text": [
      "torch.Size([3, 2, 2])\n"
     ]
    }
   ],
   "source": [
    "print(x.size())"
   ]
  },
  {
   "cell_type": "code",
   "execution_count": 98,
   "id": "bf19be76-7d4d-4253-8d9f-c73fcf702891",
   "metadata": {},
   "outputs": [],
   "source": [
    "y=x.index_select(dim=0, index=indice) # 0번째 차원(열)에서 2번째 블록을 가져오고 1번째 블록을 가져옴"
   ]
  },
  {
   "cell_type": "markdown",
   "id": "26107284-6a46-4174-8245-6a5c9ee470b4",
   "metadata": {},
   "source": [
    "- x의 내용\n",
    "  - x[0] = [[1,1],[2,2]]\n",
    "  - x[1] = [[3,3],[4,4]]\n",
    "  - x[2] = [[5,5],[6,6]]\n",
    "- 첫 번째 차원에서 인덱스 2, 1에 해당하는 요소를 뽑음\n",
    "- x[2], x[1]의 순서로 요소를 가져옴 "
   ]
  },
  {
   "cell_type": "code",
   "execution_count": 99,
   "id": "0a629e27-ea8c-4148-8af1-bb09b3822992",
   "metadata": {},
   "outputs": [
    {
     "name": "stdout",
     "output_type": "stream",
     "text": [
      "tensor([[[5., 5.],\n",
      "         [6., 6.]],\n",
      "\n",
      "        [[3., 3.],\n",
      "         [4., 4.]]])\n"
     ]
    }
   ],
   "source": [
    "print(y)"
   ]
  },
  {
   "cell_type": "code",
   "execution_count": 100,
   "id": "aa8de9ba-9ec0-419f-9b2f-87d460fa1c29",
   "metadata": {},
   "outputs": [
    {
     "name": "stdout",
     "output_type": "stream",
     "text": [
      "torch.Size([2, 2, 2])\n"
     ]
    }
   ],
   "source": [
    "print(y.size())"
   ]
  },
  {
   "cell_type": "code",
   "execution_count": 101,
   "id": "32e878a3-0c22-4478-8adf-0d5b3680604f",
   "metadata": {},
   "outputs": [
    {
     "data": {
      "text/plain": [
       "tensor([[[2., 2.]],\n",
       "\n",
       "        [[4., 4.]],\n",
       "\n",
       "        [[6., 6.]]])"
      ]
     },
     "execution_count": 101,
     "metadata": {},
     "output_type": "execute_result"
    }
   ],
   "source": [
    "indice = torch.LongTensor([1])\n",
    "y = x.index_select(dim=1, index=indice)\n",
    "y"
   ]
  },
  {
   "cell_type": "markdown",
   "id": "71c10d2d-7e34-4ce0-8706-205ed1030a8e",
   "metadata": {},
   "source": [
    "### concatenate 함수\n",
    "- cat()\n",
    "- 여러 텐서를 합쳐서 하나의 텐서로 만듦\n",
    "- 합치는 차원을 dim으로 지정\n",
    "- 합치는 차원 외 다른 차원들의 크기는 같아야 함\n",
    "- parameters\n",
    "  - tensors: 텐서 목록\n",
    "  - dim: int, optional"
   ]
  },
  {
   "cell_type": "code",
   "execution_count": 102,
   "id": "76545a76-f11a-4e5e-935c-d8fcee37e371",
   "metadata": {},
   "outputs": [],
   "source": [
    "x=torch.FloatTensor([[1,2,3],\n",
    "                     [4,5,6],\n",
    "                     [7,8,9]])"
   ]
  },
  {
   "cell_type": "code",
   "execution_count": 103,
   "id": "6f823bb9-5cad-4e69-b03f-5e365885bafb",
   "metadata": {},
   "outputs": [],
   "source": [
    "y=torch.FloatTensor([[10,11,12],\n",
    "                     [13,14,15],\n",
    "                     [16,17,18]])"
   ]
  },
  {
   "cell_type": "code",
   "execution_count": 104,
   "id": "397c7e0f-0b69-4277-a9f4-58e127d2cab9",
   "metadata": {},
   "outputs": [
    {
     "name": "stdout",
     "output_type": "stream",
     "text": [
      "torch.Size([3, 3]) torch.Size([3, 3])\n"
     ]
    }
   ],
   "source": [
    "print(x.size(), y.size())"
   ]
  },
  {
   "cell_type": "code",
   "execution_count": 105,
   "id": "d74a4174-7be2-432a-a52f-4652e636888b",
   "metadata": {},
   "outputs": [
    {
     "data": {
      "text/plain": [
       "tensor([[ 1.,  2.,  3.],\n",
       "        [ 4.,  5.,  6.],\n",
       "        [ 7.,  8.,  9.],\n",
       "        [10., 11., 12.],\n",
       "        [13., 14., 15.],\n",
       "        [16., 17., 18.]])"
      ]
     },
     "execution_count": 105,
     "metadata": {},
     "output_type": "execute_result"
    }
   ],
   "source": [
    "z=torch.cat([x,y], dim=0) # 첫 번째 차원(텐서의 세로축)으로 이어 붙임 \n",
    "z"
   ]
  },
  {
   "cell_type": "code",
   "execution_count": 106,
   "id": "1818abd6-e4f0-488b-953d-4a7618816aba",
   "metadata": {},
   "outputs": [
    {
     "name": "stdout",
     "output_type": "stream",
     "text": [
      "torch.Size([6, 3])\n"
     ]
    }
   ],
   "source": [
    "print(z.size())"
   ]
  },
  {
   "cell_type": "code",
   "execution_count": 107,
   "id": "be8eb7d7-76c8-467e-9852-346ad995dd29",
   "metadata": {},
   "outputs": [
    {
     "data": {
      "text/plain": [
       "tensor([[ 1.,  2.,  3., 10., 11., 12.],\n",
       "        [ 4.,  5.,  6., 13., 14., 15.],\n",
       "        [ 7.,  8.,  9., 16., 17., 18.]])"
      ]
     },
     "execution_count": 107,
     "metadata": {},
     "output_type": "execute_result"
    }
   ],
   "source": [
    "z=torch.cat([x,y], dim=-1) # 마지막 차원(두 번째 차원 즉, 텐서의 가로축)으로 이어 붙임 \n",
    "z"
   ]
  },
  {
   "cell_type": "code",
   "execution_count": 108,
   "id": "21994c8e-3699-447b-a487-e5f6d6943d27",
   "metadata": {},
   "outputs": [
    {
     "name": "stdout",
     "output_type": "stream",
     "text": [
      "torch.Size([3, 6])\n"
     ]
    }
   ],
   "source": [
    "print(z.size())"
   ]
  },
  {
   "cell_type": "markdown",
   "id": "4f8d5d3f-48aa-4335-86b8-32bb8dd543ad",
   "metadata": {},
   "source": [
    "- 만약 y 텐서가 [2, 3]이라면 dim=0으로는 cat 함수를 실행할 수 있지만 dim=-1은 차원의 크키가 맞지 않아 cat 함수를 실행할 수 없음"
   ]
  },
  {
   "cell_type": "markdown",
   "id": "01a49a0f-9a1d-4216-80c7-12198c4f6b1e",
   "metadata": {},
   "source": [
    "### stack 함수\n",
    "- cat() 함수와 비슷하게 텐서를 합치는 함수\n",
    "- cat() 함수와 다르게 새로운 차원을 추가하여 합치는 텐서를 쌓는 방식으로 합침\n",
    "- Numpy의 stack() 메서드와 같은 방식"
   ]
  },
  {
   "cell_type": "code",
   "execution_count": 109,
   "id": "903e8cc5-d5dd-4030-898e-a0dd539f526c",
   "metadata": {},
   "outputs": [
    {
     "data": {
      "text/plain": [
       "tensor([[[ 1.,  2.,  3.],\n",
       "         [ 4.,  5.,  6.],\n",
       "         [ 7.,  8.,  9.]],\n",
       "\n",
       "        [[10., 11., 12.],\n",
       "         [13., 14., 15.],\n",
       "         [16., 17., 18.]]])"
      ]
     },
     "execution_count": 109,
     "metadata": {},
     "output_type": "execute_result"
    }
   ],
   "source": [
    "z=torch.stack([x,y]) # dim=0과 결과값 동일\n",
    "z"
   ]
  },
  {
   "cell_type": "code",
   "execution_count": 110,
   "id": "a0dd2317-2221-4f2a-beab-1006133d55a4",
   "metadata": {},
   "outputs": [
    {
     "name": "stdout",
     "output_type": "stream",
     "text": [
      "torch.Size([2, 3, 3])\n"
     ]
    }
   ],
   "source": [
    "print(z.size())"
   ]
  },
  {
   "cell_type": "code",
   "execution_count": 111,
   "id": "e9f9c53f-4669-42f8-b9f5-3a8ca100e7c6",
   "metadata": {},
   "outputs": [
    {
     "data": {
      "text/plain": [
       "tensor([[[ 1., 10.],\n",
       "         [ 2., 11.],\n",
       "         [ 3., 12.]],\n",
       "\n",
       "        [[ 4., 13.],\n",
       "         [ 5., 14.],\n",
       "         [ 6., 15.]],\n",
       "\n",
       "        [[ 7., 16.],\n",
       "         [ 8., 17.],\n",
       "         [ 9., 18.]]])"
      ]
     },
     "execution_count": 111,
     "metadata": {},
     "output_type": "execute_result"
    }
   ],
   "source": [
    "z=torch.stack([x,y], dim=-1) # dim = 2와 결과값 동일\n",
    "z"
   ]
  },
  {
   "cell_type": "code",
   "execution_count": 112,
   "id": "e994887f-86a8-4638-a6e2-e68a5d55ed62",
   "metadata": {},
   "outputs": [
    {
     "name": "stdout",
     "output_type": "stream",
     "text": [
      "torch.Size([3, 3, 2])\n"
     ]
    }
   ],
   "source": [
    "print(z.size())"
   ]
  },
  {
   "cell_type": "code",
   "execution_count": 113,
   "id": "fbcdacc8-2f70-496d-b8d4-0bbf1be534f2",
   "metadata": {},
   "outputs": [
    {
     "data": {
      "text/plain": [
       "tensor([[[ 1.,  2.,  3.],\n",
       "         [10., 11., 12.]],\n",
       "\n",
       "        [[ 4.,  5.,  6.],\n",
       "         [13., 14., 15.]],\n",
       "\n",
       "        [[ 7.,  8.,  9.],\n",
       "         [16., 17., 18.]]])"
      ]
     },
     "execution_count": 113,
     "metadata": {},
     "output_type": "execute_result"
    }
   ],
   "source": [
    "z=torch.stack([x,y], dim=1)\n",
    "z"
   ]
  },
  {
   "cell_type": "code",
   "execution_count": 114,
   "id": "957fe17d-3847-47fa-9094-03eca421666f",
   "metadata": {},
   "outputs": [
    {
     "name": "stdout",
     "output_type": "stream",
     "text": [
      "torch.Size([3, 2, 3])\n"
     ]
    }
   ],
   "source": [
    "print(z.size())"
   ]
  },
  {
   "cell_type": "markdown",
   "id": "ad37acb7-379d-4767-b39c-c5d8c2addf81",
   "metadata": {},
   "source": [
    "- stack() 함수는 새로운 차원을 추가(unsqueeze)해서 cat() 함수를 수행한 것과 같음"
   ]
  },
  {
   "cell_type": "code",
   "execution_count": 115,
   "id": "852393dd-98f1-48af-a8ef-2cfa9df66624",
   "metadata": {},
   "outputs": [],
   "source": [
    "d=0"
   ]
  },
  {
   "cell_type": "code",
   "execution_count": 116,
   "id": "05abc557-c1c3-42d1-a3fe-3f9488a15337",
   "metadata": {},
   "outputs": [
    {
     "data": {
      "text/plain": [
       "tensor([[[ 1.,  2.,  3.],\n",
       "         [ 4.,  5.,  6.],\n",
       "         [ 7.,  8.,  9.]],\n",
       "\n",
       "        [[10., 11., 12.],\n",
       "         [13., 14., 15.],\n",
       "         [16., 17., 18.]]])"
      ]
     },
     "execution_count": 116,
     "metadata": {},
     "output_type": "execute_result"
    }
   ],
   "source": [
    "z=torch.cat([x.unsqueeze(d), y.unsqueeze(d)], dim=d)\n",
    "z"
   ]
  },
  {
   "cell_type": "code",
   "execution_count": 117,
   "id": "e9e575d5-d2fb-4c8f-a123-a836e1eb1d84",
   "metadata": {},
   "outputs": [
    {
     "data": {
      "text/plain": [
       "tensor([[ 1.,  2.,  3.],\n",
       "        [ 4.,  5.,  6.],\n",
       "        [ 7.,  8.,  9.],\n",
       "        [10., 11., 12.],\n",
       "        [13., 14., 15.],\n",
       "        [16., 17., 18.]])"
      ]
     },
     "execution_count": 117,
     "metadata": {},
     "output_type": "execute_result"
    }
   ],
   "source": [
    "torch.cat([x, y], dim=0)"
   ]
  },
  {
   "cell_type": "code",
   "execution_count": 118,
   "id": "339ac064-68b5-47e5-9b2e-84a0e1a71411",
   "metadata": {},
   "outputs": [
    {
     "data": {
      "text/plain": [
       "tensor([[ 1.,  2.,  3., 10., 11., 12.],\n",
       "        [ 4.,  5.,  6., 13., 14., 15.],\n",
       "        [ 7.,  8.,  9., 16., 17., 18.]])"
      ]
     },
     "execution_count": 118,
     "metadata": {},
     "output_type": "execute_result"
    }
   ],
   "source": [
    "torch.cat([x,y], dim=-1)"
   ]
  },
  {
   "cell_type": "code",
   "execution_count": 119,
   "id": "041eeca1-8549-45ae-8cb1-0dc264ad5718",
   "metadata": {},
   "outputs": [
    {
     "data": {
      "text/plain": [
       "tensor([[[ 1.,  2.,  3.],\n",
       "         [ 4.,  5.,  6.],\n",
       "         [ 7.,  8.,  9.]],\n",
       "\n",
       "        [[10., 11., 12.],\n",
       "         [13., 14., 15.],\n",
       "         [16., 17., 18.]]])"
      ]
     },
     "execution_count": 119,
     "metadata": {},
     "output_type": "execute_result"
    }
   ],
   "source": [
    "torch.stack([x,y], dim=0)"
   ]
  },
  {
   "cell_type": "code",
   "execution_count": 120,
   "id": "59cfb0ba-9288-416f-8eeb-c3b2d70d0c88",
   "metadata": {},
   "outputs": [
    {
     "data": {
      "text/plain": [
       "tensor([[[ 1.,  2.,  3.],\n",
       "         [ 4.,  5.,  6.],\n",
       "         [ 7.,  8.,  9.]],\n",
       "\n",
       "        [[10., 11., 12.],\n",
       "         [13., 14., 15.],\n",
       "         [16., 17., 18.]]])"
      ]
     },
     "execution_count": 120,
     "metadata": {},
     "output_type": "execute_result"
    }
   ],
   "source": [
    "torch.cat([x.unsqueeze(0), y.unsqueeze(0)], dim=0)"
   ]
  },
  {
   "cell_type": "code",
   "execution_count": 121,
   "id": "a54c90a3-fd1e-4369-b6cb-ec3bb5eae2f6",
   "metadata": {},
   "outputs": [
    {
     "data": {
      "text/plain": [
       "tensor([[[ 1., 10.],\n",
       "         [ 2., 11.],\n",
       "         [ 3., 12.]],\n",
       "\n",
       "        [[ 4., 13.],\n",
       "         [ 5., 14.],\n",
       "         [ 6., 15.]],\n",
       "\n",
       "        [[ 7., 16.],\n",
       "         [ 8., 17.],\n",
       "         [ 9., 18.]]])"
      ]
     },
     "execution_count": 121,
     "metadata": {},
     "output_type": "execute_result"
    }
   ],
   "source": [
    "torch.stack([x,y], dim=-1)"
   ]
  },
  {
   "cell_type": "markdown",
   "id": "82ce36ba-f4d7-4f70-9e58-3097993400cd",
   "metadata": {},
   "source": [
    "### Expand 함수\n",
    "- 차원의 크기가 1인 차원을 원하는 크기로 늘여줌\n",
    "- ex) [2, 1, 2] -> [2, 3, 2]"
   ]
  },
  {
   "cell_type": "code",
   "execution_count": 122,
   "id": "2f8baa82-7d36-46de-9db6-9086a7ccdd82",
   "metadata": {},
   "outputs": [
    {
     "data": {
      "text/plain": [
       "torch.Size([2, 1, 2])"
      ]
     },
     "execution_count": 122,
     "metadata": {},
     "output_type": "execute_result"
    }
   ],
   "source": [
    "x=torch.FloatTensor([[[1,2]],[[3,4]]])\n",
    "x.size()"
   ]
  },
  {
   "cell_type": "code",
   "execution_count": 123,
   "id": "687c2e6b-7e32-4cd8-9a7d-b84e5eb174b6",
   "metadata": {},
   "outputs": [
    {
     "data": {
      "text/plain": [
       "tensor([[[1., 2.],\n",
       "         [1., 2.],\n",
       "         [1., 2.]],\n",
       "\n",
       "        [[3., 4.],\n",
       "         [3., 4.],\n",
       "         [3., 4.]]])"
      ]
     },
     "execution_count": 123,
     "metadata": {},
     "output_type": "execute_result"
    }
   ],
   "source": [
    "y=x.expand(2,3,2)\n",
    "y"
   ]
  },
  {
   "cell_type": "code",
   "execution_count": 124,
   "id": "7c4d735e-ad57-4204-85c9-f9ecfab3a46c",
   "metadata": {},
   "outputs": [
    {
     "data": {
      "text/plain": [
       "torch.Size([2, 3, 2])"
      ]
     },
     "execution_count": 124,
     "metadata": {},
     "output_type": "execute_result"
    }
   ],
   "source": [
    "y.size()"
   ]
  },
  {
   "cell_type": "markdown",
   "id": "f0fc6fe4-c9e3-47d3-a2ab-aa5c1cec0e7f",
   "metadata": {},
   "source": [
    "- cat 함수를 통해 구현할 경우 형태는 같지만 실제로는 다름"
   ]
  },
  {
   "cell_type": "code",
   "execution_count": 125,
   "id": "112bb18f-47a4-454c-a2f5-66a4ae74f0d4",
   "metadata": {},
   "outputs": [
    {
     "data": {
      "text/plain": [
       "tensor([[[1., 2.],\n",
       "         [1., 2.],\n",
       "         [1., 2.]],\n",
       "\n",
       "        [[3., 4.],\n",
       "         [3., 4.],\n",
       "         [3., 4.]]])"
      ]
     },
     "execution_count": 125,
     "metadata": {},
     "output_type": "execute_result"
    }
   ],
   "source": [
    "y=torch.cat([x] * 3, dim=1)\n",
    "y"
   ]
  },
  {
   "cell_type": "markdown",
   "id": "d8e5b410-f6ea-491d-911e-2cd86cffb421",
   "metadata": {},
   "source": [
    "#### expand() 사용 시 주의사항\n",
    "- 확장되는 차원의 데이터는 원본 데이터의 참조일 뿐, 복사가 아님\n",
    "  "
   ]
  },
  {
   "cell_type": "code",
   "execution_count": 126,
   "id": "42730922-24fd-4544-b0aa-62656491b329",
   "metadata": {},
   "outputs": [
    {
     "name": "stdout",
     "output_type": "stream",
     "text": [
      "torch.Size([2, 1, 2])\n",
      "3367589972608\n",
      "3367589972612\n",
      "3367589972616\n",
      "3367589972620\n"
     ]
    }
   ],
   "source": [
    "x=torch.FloatTensor([[[1,2]], [[3,4]]])\n",
    "print(x.shape)\n",
    "for i in range(2):\n",
    "    for j in range(1):\n",
    "        for k in range(2):\n",
    "            print(x[i][j][k].data_ptr()) # 값이 4씩 건너 뜀"
   ]
  },
  {
   "cell_type": "code",
   "execution_count": 127,
   "id": "f78ac892-7a1f-4755-834a-a015a5bcfb1c",
   "metadata": {},
   "outputs": [
    {
     "data": {
      "text/plain": [
       "tensor([[[1., 2.],\n",
       "         [1., 2.],\n",
       "         [1., 2.]],\n",
       "\n",
       "        [[3., 4.],\n",
       "         [3., 4.],\n",
       "         [3., 4.]]])"
      ]
     },
     "execution_count": 127,
     "metadata": {},
     "output_type": "execute_result"
    }
   ],
   "source": [
    "y=x.expand(2,3,2)\n",
    "y"
   ]
  },
  {
   "cell_type": "code",
   "execution_count": 128,
   "id": "e3270113-83c4-477f-9a3e-970975086b9f",
   "metadata": {},
   "outputs": [
    {
     "name": "stdout",
     "output_type": "stream",
     "text": [
      "3367589972608\n",
      "3367589972612\n",
      "3367589972608\n",
      "3367589972612\n",
      "3367589972608\n",
      "3367589972612\n",
      "3367589972616\n",
      "3367589972620\n",
      "3367589972616\n",
      "3367589972620\n",
      "3367589972616\n",
      "3367589972620\n"
     ]
    }
   ],
   "source": [
    "for i in range(2):\n",
    "    for j in range(3):\n",
    "        for k in range(2):\n",
    "            print(y[i][j][k].data_ptr()) # 4씩 건너 뛰다가 원래 값이 출력"
   ]
  },
  {
   "cell_type": "code",
   "execution_count": 129,
   "id": "fea148d2-53b7-45a3-9109-643179069bcd",
   "metadata": {},
   "outputs": [
    {
     "data": {
      "text/plain": [
       "(2, 2, 1)"
      ]
     },
     "execution_count": 129,
     "metadata": {},
     "output_type": "execute_result"
    }
   ],
   "source": [
    "x.stride()"
   ]
  },
  {
   "cell_type": "code",
   "execution_count": 130,
   "id": "414d3cfc-e75d-4a17-b69f-36d564b4fe55",
   "metadata": {},
   "outputs": [
    {
     "data": {
      "text/plain": [
       "(2, 0, 1)"
      ]
     },
     "execution_count": 130,
     "metadata": {},
     "output_type": "execute_result"
    }
   ],
   "source": [
    "y.stride() # 1의 메모리 값은 모두 동일 -> 같은 메모리를 가리키고 있기 때문에 다음 주소를 찾은 필요가 없음"
   ]
  },
  {
   "cell_type": "code",
   "execution_count": 131,
   "id": "5bdea038-f4a0-474a-a15d-2afd70ff444e",
   "metadata": {},
   "outputs": [
    {
     "data": {
      "text/plain": [
       "tensor([[[100.,   2.],\n",
       "         [100.,   2.],\n",
       "         [100.,   2.]],\n",
       "\n",
       "        [[  3.,   4.],\n",
       "         [  3.,   4.],\n",
       "         [  3.,   4.]]])"
      ]
     },
     "execution_count": 131,
     "metadata": {},
     "output_type": "execute_result"
    }
   ],
   "source": [
    "y[0][0][0] = 100\n",
    "y"
   ]
  },
  {
   "cell_type": "code",
   "execution_count": 132,
   "id": "571e84ab-1931-4f7f-a802-9400136c65bc",
   "metadata": {},
   "outputs": [
    {
     "data": {
      "text/plain": [
       "tensor([[[100.,   2.],\n",
       "         [100.,   2.],\n",
       "         [100.,   2.]],\n",
       "\n",
       "        [[  3.,   4.],\n",
       "         [  3.,   4.],\n",
       "         [  3.,   4.]]])"
      ]
     },
     "execution_count": 132,
     "metadata": {},
     "output_type": "execute_result"
    }
   ],
   "source": [
    "z=torch.cat([x] * 3, dim=1)\n",
    "z"
   ]
  },
  {
   "cell_type": "code",
   "execution_count": 133,
   "id": "8a507991-9300-4861-b876-16dc43248ecc",
   "metadata": {},
   "outputs": [
    {
     "data": {
      "text/plain": [
       "(6, 2, 1)"
      ]
     },
     "execution_count": 133,
     "metadata": {},
     "output_type": "execute_result"
    }
   ],
   "source": [
    "z.stride()"
   ]
  },
  {
   "cell_type": "code",
   "execution_count": 134,
   "id": "9b230455-98f2-4c47-b011-485db81f2e5f",
   "metadata": {},
   "outputs": [
    {
     "data": {
      "text/plain": [
       "tensor([[[100.,   2.],\n",
       "         [100.,   2.],\n",
       "         [100.,   2.]],\n",
       "\n",
       "        [[ 20.,   4.],\n",
       "         [  3.,   4.],\n",
       "         [  3.,   4.]]])"
      ]
     },
     "execution_count": 134,
     "metadata": {},
     "output_type": "execute_result"
    }
   ],
   "source": [
    "z[1][0][0] = 20\n",
    "z"
   ]
  },
  {
   "cell_type": "code",
   "execution_count": 135,
   "id": "d1c0b2d9-3377-4ae1-8cec-04685af2c407",
   "metadata": {},
   "outputs": [
    {
     "data": {
      "text/plain": [
       "tensor([[[ 50.,   2.],\n",
       "         [100.,   2.],\n",
       "         [100.,   2.]],\n",
       "\n",
       "        [[ 20.,   4.],\n",
       "         [  3.,   4.],\n",
       "         [  3.,   4.]]])"
      ]
     },
     "execution_count": 135,
     "metadata": {},
     "output_type": "execute_result"
    }
   ],
   "source": [
    "z[0][0][0] = 50\n",
    "z"
   ]
  },
  {
   "cell_type": "markdown",
   "id": "744fb8eb-31b7-44ad-9de3-5cce7a4ed91d",
   "metadata": {},
   "source": [
    "### Random Permutation 함수\n",
    "- randperm()\n",
    "- 인수로 주어진 숫자로, 0부터 해당 숫자 앞까지의 정수를 임의의 순서로 텐서를 만듬\n",
    "- 순서를 섞어준다는 의미에서 Numpy의 suffle()과 비슷함\n",
    "- suffle()은 주어진 데이터를 섞는 것이고, randperm()은 1부터 해당 숫자까지 데이터를 생성해서 섞는 것이 다름\n",
    "- 딥러닝 학습에서 데이터를 무작위 순서로 넣어주기 위해 데이터의 인덱스를 섞어주는 역할로 사용"
   ]
  },
  {
   "cell_type": "code",
   "execution_count": 136,
   "id": "56630d7f-9d8f-4f78-8d99-c3302650a69e",
   "metadata": {},
   "outputs": [
    {
     "data": {
      "text/plain": [
       "tensor([9, 3, 8, 2, 1, 0, 5, 4, 6, 7])"
      ]
     },
     "execution_count": 136,
     "metadata": {},
     "output_type": "execute_result"
    }
   ],
   "source": [
    "x=torch.randperm(10)\n",
    "x"
   ]
  },
  {
   "cell_type": "markdown",
   "id": "9710e038-e248-4a47-b4d0-783bff1d4fb8",
   "metadata": {},
   "source": [
    "### Argument Max 함수\n",
    "- argmax()\n",
    "- 함수의 최대값이 나오는 텐서 X의 인덱스를 반환"
   ]
  },
  {
   "cell_type": "code",
   "execution_count": 137,
   "id": "62a187f7-97cb-4740-8ed0-218148bf1f21",
   "metadata": {},
   "outputs": [
    {
     "data": {
      "text/plain": [
       "tensor([[[22, 18, 12],\n",
       "         [ 0,  7, 24],\n",
       "         [23, 11,  2]],\n",
       "\n",
       "        [[ 6,  3, 14],\n",
       "         [ 4,  5, 20],\n",
       "         [16, 21,  9]],\n",
       "\n",
       "        [[19, 17,  1],\n",
       "         [10,  8, 13],\n",
       "         [25, 15, 26]]])"
      ]
     },
     "execution_count": 137,
     "metadata": {},
     "output_type": "execute_result"
    }
   ],
   "source": [
    "x=torch.randperm(3**3).reshape(3,3,-1)\n",
    "x"
   ]
  },
  {
   "cell_type": "code",
   "execution_count": 138,
   "id": "e2844eec-a72a-4ea5-8e7f-f770bb41dd33",
   "metadata": {
    "scrolled": true
   },
   "outputs": [
    {
     "data": {
      "text/plain": [
       "tensor([[0, 2, 0],\n",
       "        [2, 2, 1],\n",
       "        [0, 2, 2]])"
      ]
     },
     "execution_count": 138,
     "metadata": {},
     "output_type": "execute_result"
    }
   ],
   "source": [
    "x.argmax(dim=-1) # 차원이 하나 줄어들게 됨 // x[i,j,:] 안에서 가장 큰 값의 인덱스를 출력 "
   ]
  },
  {
   "cell_type": "markdown",
   "id": "d9e8eb60-3e9a-4a54-bee8-8ba5f69f9a50",
   "metadata": {},
   "source": [
    "- 결과 텐서의 첫 번쨰 1은 [21, 25, 4] 중에서 제일 큰 25의 인덱스 1을 의미\n",
    "- 데이터를 입력해서 연산한 결과 중에서 가장 좋은 값을 내는 데이터의 위치를 찾을 때 사용"
   ]
  },
  {
   "cell_type": "markdown",
   "id": "b9215495-2fba-4286-8111-81276050ba27",
   "metadata": {},
   "source": [
    "### Top-k 함수\n",
    "- topk()\n",
    "- argmax() 함수는 가장 큰 값의 인덱스를 반환하는 것에 반해, topk() 함수는 가장 큰 값과 인덱스를 모두 반환\n",
    "- 따라서, k=1일 때도 argmax()보다 차원이 하나 더 늘어남"
   ]
  },
  {
   "cell_type": "code",
   "execution_count": 139,
   "id": "76fa845f-c94c-4996-ac13-8a5a4ffc7967",
   "metadata": {},
   "outputs": [],
   "source": [
    "values, indices = torch.topk(x, k=1, dim=-1)\n",
    "# k = 1 => 마지막 차원에서 가장 큰 1개 값만 선택, 만약 k가 2면 2개의 값을 선택\n",
    "# dim = -1 => 마지막 차원을 기준으로 선택, 값을 0,1,2로 바꿔도 shape만 달라짐"
   ]
  },
  {
   "cell_type": "code",
   "execution_count": 140,
   "id": "8ad42af5-a889-4a28-b9ec-3a4f3a7a7c86",
   "metadata": {},
   "outputs": [
    {
     "data": {
      "text/plain": [
       "tensor([[[22],\n",
       "         [24],\n",
       "         [23]],\n",
       "\n",
       "        [[14],\n",
       "         [20],\n",
       "         [21]],\n",
       "\n",
       "        [[19],\n",
       "         [13],\n",
       "         [26]]])"
      ]
     },
     "execution_count": 140,
     "metadata": {},
     "output_type": "execute_result"
    }
   ],
   "source": [
    "values # 가장 큰 값"
   ]
  },
  {
   "cell_type": "code",
   "execution_count": 141,
   "id": "ab9f325d-2e70-4e7b-bd39-22e495b4e766",
   "metadata": {},
   "outputs": [
    {
     "data": {
      "text/plain": [
       "tensor([[[0],\n",
       "         [2],\n",
       "         [0]],\n",
       "\n",
       "        [[2],\n",
       "         [2],\n",
       "         [1]],\n",
       "\n",
       "        [[0],\n",
       "         [2],\n",
       "         [2]]])"
      ]
     },
     "execution_count": 141,
     "metadata": {},
     "output_type": "execute_result"
    }
   ],
   "source": [
    "indices # 가장 큰 값의 인덱스"
   ]
  },
  {
   "cell_type": "code",
   "execution_count": 142,
   "id": "0d501d39-3d2c-4efb-a01c-2d380f69be0e",
   "metadata": {},
   "outputs": [
    {
     "name": "stdout",
     "output_type": "stream",
     "text": [
      "torch.Size([3, 3, 1])\n"
     ]
    }
   ],
   "source": [
    "print(values.size())"
   ]
  },
  {
   "cell_type": "markdown",
   "id": "6cbafc81-07df-4401-a718-eed5d9255efe",
   "metadata": {},
   "source": [
    "### sort 함수\n",
    "- 텐서를 원하는 차원 기준으로 정렬\n",
    "- 결과물은 topk 함수와 동일\n",
    "- true, false"
   ]
  },
  {
   "cell_type": "code",
   "execution_count": 143,
   "id": "7efe22f0-72ab-43de-9f26-21e4c298d921",
   "metadata": {},
   "outputs": [
    {
     "data": {
      "text/plain": [
       "torch.Size([3, 3, 2])"
      ]
     },
     "execution_count": 143,
     "metadata": {},
     "output_type": "execute_result"
    }
   ],
   "source": [
    "_, indices = torch.topk(x, k=2, dim=-1)\n",
    "indices.size()"
   ]
  },
  {
   "cell_type": "code",
   "execution_count": 144,
   "id": "9223b90d-8c69-4ea8-90ff-017648ec810e",
   "metadata": {},
   "outputs": [
    {
     "data": {
      "text/plain": [
       "torch.return_types.sort(\n",
       "values=tensor([[[12, 18, 22],\n",
       "         [ 0,  7, 24],\n",
       "         [ 2, 11, 23]],\n",
       "\n",
       "        [[ 3,  6, 14],\n",
       "         [ 4,  5, 20],\n",
       "         [ 9, 16, 21]],\n",
       "\n",
       "        [[ 1, 17, 19],\n",
       "         [ 8, 10, 13],\n",
       "         [15, 25, 26]]]),\n",
       "indices=tensor([[[2, 1, 0],\n",
       "         [0, 1, 2],\n",
       "         [2, 1, 0]],\n",
       "\n",
       "        [[1, 0, 2],\n",
       "         [0, 1, 2],\n",
       "         [2, 0, 1]],\n",
       "\n",
       "        [[2, 1, 0],\n",
       "         [1, 0, 2],\n",
       "         [1, 0, 2]]]))"
      ]
     },
     "execution_count": 144,
     "metadata": {},
     "output_type": "execute_result"
    }
   ],
   "source": [
    "torch.sort(x, dim=-1)"
   ]
  },
  {
   "cell_type": "code",
   "execution_count": 145,
   "id": "26cd37c9-555b-47b8-9451-97144895c075",
   "metadata": {},
   "outputs": [
    {
     "data": {
      "text/plain": [
       "tensor([[[22, 18, 12],\n",
       "         [24,  7,  0],\n",
       "         [23, 11,  2]],\n",
       "\n",
       "        [[14,  6,  3],\n",
       "         [20,  5,  4],\n",
       "         [21, 16,  9]],\n",
       "\n",
       "        [[19, 17,  1],\n",
       "         [13, 10,  8],\n",
       "         [26, 25, 15]]])"
      ]
     },
     "execution_count": 145,
     "metadata": {},
     "output_type": "execute_result"
    }
   ],
   "source": [
    "target_dim=-1\n",
    "values, indices = torch.topk(x,\n",
    "                             k = x.size(target_dim), # 마지막 차원의 모든 값 선택\n",
    "                             largest=True) # 내림차순 정렬\n",
    "# 마지막 차원의 모든 값을 내림차순으로 정렬해서 가져오기\n",
    "values"
   ]
  },
  {
   "cell_type": "markdown",
   "id": "652e9a44-0717-44a7-a274-e6a61c7e67ec",
   "metadata": {},
   "source": [
    "### Masked Fill 함수\n",
    "- masked_fill()\n",
    "- 텐서 내의 원하는 부분만 특정 값으로 채움\n",
    "- 원하는 위치는 마스크로 설정"
   ]
  },
  {
   "cell_type": "code",
   "execution_count": 146,
   "id": "589c4634-e135-416a-ab96-357a6195c1c8",
   "metadata": {},
   "outputs": [
    {
     "data": {
      "text/plain": [
       "tensor([[0., 1., 2.],\n",
       "        [3., 4., 5.],\n",
       "        [6., 7., 8.]])"
      ]
     },
     "execution_count": 146,
     "metadata": {},
     "output_type": "execute_result"
    }
   ],
   "source": [
    "x=torch.FloatTensor([i for i in range(3**2)]).reshape(3,-1)\n",
    "x"
   ]
  },
  {
   "cell_type": "code",
   "execution_count": 147,
   "id": "a37e9521-035b-4196-91a3-81b8b70b5466",
   "metadata": {},
   "outputs": [
    {
     "data": {
      "text/plain": [
       "tensor([[False, False, False],\n",
       "        [False, False,  True],\n",
       "        [ True,  True,  True]])"
      ]
     },
     "execution_count": 147,
     "metadata": {},
     "output_type": "execute_result"
    }
   ],
   "source": [
    "mask=x>4\n",
    "mask"
   ]
  },
  {
   "cell_type": "code",
   "execution_count": 148,
   "id": "1241cfb6-9332-4293-ba04-5ba52a1f1021",
   "metadata": {},
   "outputs": [
    {
     "data": {
      "text/plain": [
       "tensor([[  0.,   1.,   2.],\n",
       "        [  3.,   4., 100.],\n",
       "        [100., 100., 100.]])"
      ]
     },
     "execution_count": 148,
     "metadata": {},
     "output_type": "execute_result"
    }
   ],
   "source": [
    "x.masked_fill(mask, value=100)"
   ]
  },
  {
   "cell_type": "markdown",
   "id": "4676a0b2-a988-4c0f-accb-3c56661cccb3",
   "metadata": {},
   "source": [
    "### Ones, Zeros 함수\n",
    "- ones(), zeros()\n",
    "- ones_like(), zeros_like()\n",
    "- Numpy의 함수와 같은 역할\n",
    "- 차이점: Numpy 함수는 데이터의 크기를 하나의 리스트/튜플로 만들어서 넣어야 함\n",
    "  <br> pytorch에서는 차원을 그대로 인수로 넣음\n",
    "  - numpy -> 튜플로 줌\n",
    "  - torch -> 파라미터로 줌"
   ]
  },
  {
   "cell_type": "code",
   "execution_count": 149,
   "id": "83e6b3a3-d643-416d-adbe-8ef74d86c3f3",
   "metadata": {},
   "outputs": [
    {
     "data": {
      "text/plain": [
       "tensor([[1., 1.],\n",
       "        [1., 1.],\n",
       "        [1., 1.]])"
      ]
     },
     "execution_count": 149,
     "metadata": {},
     "output_type": "execute_result"
    }
   ],
   "source": [
    "torch.ones((3,2))"
   ]
  },
  {
   "cell_type": "code",
   "execution_count": 150,
   "id": "5d409aec-3010-4797-8eeb-4c7554439064",
   "metadata": {},
   "outputs": [
    {
     "data": {
      "text/plain": [
       "tensor([[0., 0., 0.],\n",
       "        [0., 0., 0.]])"
      ]
     },
     "execution_count": 150,
     "metadata": {},
     "output_type": "execute_result"
    }
   ],
   "source": [
    "torch.zeros((2,3))"
   ]
  },
  {
   "cell_type": "code",
   "execution_count": 151,
   "id": "b3b60502-eef9-4b25-bbb5-01942c9cec62",
   "metadata": {},
   "outputs": [
    {
     "data": {
      "text/plain": [
       "torch.Size([2, 3])"
      ]
     },
     "execution_count": 151,
     "metadata": {},
     "output_type": "execute_result"
    }
   ],
   "source": [
    "x=torch.FloatTensor([[1,2,3],\n",
    "                    [4,5,6]])\n",
    "x.size()"
   ]
  },
  {
   "cell_type": "code",
   "execution_count": 152,
   "id": "5afafef0-eecd-4f9d-a7ba-353e7f3d3541",
   "metadata": {},
   "outputs": [
    {
     "data": {
      "text/plain": [
       "tensor([[1., 1., 1.],\n",
       "        [1., 1., 1.]])"
      ]
     },
     "execution_count": 152,
     "metadata": {},
     "output_type": "execute_result"
    }
   ],
   "source": [
    "torch.ones_like(x)"
   ]
  },
  {
   "cell_type": "code",
   "execution_count": 153,
   "id": "3684f777-d9fa-4102-986d-f5b3b40622f3",
   "metadata": {},
   "outputs": [
    {
     "data": {
      "text/plain": [
       "tensor([[0., 0., 0.],\n",
       "        [0., 0., 0.]])"
      ]
     },
     "execution_count": 153,
     "metadata": {},
     "output_type": "execute_result"
    }
   ],
   "source": [
    "torch.zeros_like(x)"
   ]
  }
 ],
 "metadata": {
  "kernelspec": {
   "display_name": "Python 3 (ipykernel)",
   "language": "python",
   "name": "python3"
  },
  "language_info": {
   "codemirror_mode": {
    "name": "ipython",
    "version": 3
   },
   "file_extension": ".py",
   "mimetype": "text/x-python",
   "name": "python",
   "nbconvert_exporter": "python",
   "pygments_lexer": "ipython3",
   "version": "3.13.7"
  }
 },
 "nbformat": 4,
 "nbformat_minor": 5
}
